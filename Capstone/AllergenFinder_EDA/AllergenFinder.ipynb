{
 "cells": [
  {
   "cell_type": "markdown",
   "id": "f47ca3ce",
   "metadata": {},
   "source": [
    "# TDI Capstone Project : Allergen Finder"
   ]
  },
  {
   "cell_type": "code",
   "execution_count": 1,
   "id": "d751716a",
   "metadata": {},
   "outputs": [],
   "source": [
    "import json\n",
    "import pickle\n",
    "import requests\n",
    "from bs4 import BeautifulSoup\n",
    "import re\n",
    "import os, sys\n",
    "from collections import namedtuple, defaultdict, Counter\n",
    "import time\n",
    "import random\n",
    "import contextlib\n",
    "from operator import itemgetter\n",
    "from tabulate import tabulate\n",
    "from pprint import pprint\n",
    "import pandas as pd\n",
    "\n",
    "from selenium import webdriver\n",
    "from selenium.webdriver.chrome.options import Options\n",
    "from selenium.webdriver.common.keys import Keys as KEYS\n",
    "from selenium.webdriver.support.ui import WebDriverWait\n",
    "from selenium.webdriver.support.expected_conditions import staleness_of"
   ]
  },
  {
   "cell_type": "code",
   "execution_count": 2,
   "id": "20e09fdc",
   "metadata": {},
   "outputs": [],
   "source": [
    "TARGET_PREFIX = 'https://www.target.com'\n",
    "RESULTS_URL = f'{TARGET_PREFIX}/s?searchTerm=Sunscreen'\n",
    "CHROME_DRIVER = \"/Users/alexarmstrong/local/bin/chromedriver\"\n",
    "PRODUCT_BLACKLIST = [\n",
    "    'Babyganics Sun & Bug Duo Set', # Duo set, isolated sunscreen already included\n",
    "]"
   ]
  },
  {
   "cell_type": "code",
   "execution_count": 10,
   "id": "40b1344d",
   "metadata": {},
   "outputs": [],
   "source": [
    "ProductLink = namedtuple('ProductLink', ['title', 'url'])\n",
    "\n",
    "fields = ('name', 'rank', 'percent', 'alt_names')\n",
    "Ingredient = namedtuple('Ingredient', fields, defaults=(None,)*len(fields))"
   ]
  },
  {
   "cell_type": "code",
   "execution_count": 6,
   "id": "9feeb556",
   "metadata": {},
   "outputs": [],
   "source": [
    "# URL to sunscreen search result pages\n",
    "result_urls = json.load(open('data/sunscreen_result_urls.json','r'))\n",
    "\n",
    "# (name, url) for products in all search result pages\n",
    "tmp = json.load(open('data/sunscreen_products.json','r'))\n",
    "product_links = [[ProductLink(x[0],x[1]) for x in p] for p in tmp]\n",
    "\n",
    "# HTML source for each product page\n",
    "product_pages = pickle.load(open('data/product_pages.pkl', 'rb'))\n",
    "\n",
    "# {'product name' : {key : val}}\n",
    "product_details = pickle.load(open('data/product_details.pkl','rb'))\n",
    "#json.dump(product_details, open('data/product_details.json', 'w'))\n",
    "\n",
    "# {'brand_name' : [product names]} for all products\n",
    "ordered_prod_by_brand = json.load(open('data/products_by_brand.json','r'))"
   ]
  },
  {
   "cell_type": "markdown",
   "id": "d0d0fb94",
   "metadata": {},
   "source": [
    "Project Requirements\n",
    "- [x] Access search results page\n",
    "- [x] Extract links from a single page\n",
    "- [x] Extract links from all results pages\n",
    "- [x] Extract product links from all results pages\n",
    "- [x] Extract drug facts from a single product page\n",
    "- [X] Extract drug facts from all product pages\n",
    "- [x] Clean data enough for pitch demo\n",
    "- [x] Write function for scoring ingredients\n",
    "- [x] Write function for scoring products\n",
    "- [ ] Add a visual (e.g. 2D plot of products; with similarity to irritating and non-irritating products on the two axes)\n",
    "- [x] Build webapp\n",
    "- [ ] Deploy webapp\n",
    "\n",
    "Improvements\n",
    "- Clean Data\n",
    "    - [ ] Find and correct typos (e.g. octorcylene instead of octocrylene)\n",
    "    - [ ] Map synonyms to same word (e.g. water, aqua, and eau)\n",
    "    - [ ] Remove irrelevant descriptors (e.g. vitis vinifera, vitis vinifera seed extract, and vitis vinifera fruit extract)\n",
    "    - [ ] Parse product titles (brand, name, spf, fluid oz, other)\n",
    "- Augment Data\n",
    "    - [ ] Extract ingredients from products without drug facts tab\n",
    "    - [ ] Add sunscreen products from sites other than target\n",
    "    - [ ] Build database of ingredients that includes irritation risk and name variants (e.g. scrape EWG site)\n",
    "    - [ ] Get info on relative amount of ingredients within a product\n",
    "    - [ ] Add non-sunscreen products\n",
    "- Improve ingredient score\n",
    "    - [ ] Incorporate document frequency of ingredients over entire product database\n",
    "- Improve product score\n",
    "    - [ ] cosine similarity or Word2Vec?\n",
    "- [ ] Normalize data and store in SQLite3 database\n",
    "\n",
    "Above and Beyond\n",
    "- [ ] Allow inputs to include brands in addition to exact product names\n",
    "- [ ] Include images of products"
   ]
  },
  {
   "cell_type": "markdown",
   "id": "5e45760a",
   "metadata": {},
   "source": [
    "## Application Code"
   ]
  },
  {
   "cell_type": "code",
   "execution_count": 7,
   "id": "511517b5",
   "metadata": {},
   "outputs": [],
   "source": [
    "#INGREDIENTS = json.load('product_ingredients.json')\n",
    "\n",
    "# def find_potential_allergens(product_names):\n",
    "#     product_ingredients = [get_ingredients(p) for p in product_names]\n",
    "#     allergens = determine_allergens(product_ingredients)\n",
    "#     return allergens\n",
    "\n",
    "# def get_ingredients(product_name):\n",
    "#     return INGREDIENTS.get(product_name, [])\n",
    "\n",
    "# def determine_allergens(product_ingredients):\n",
    "#     all_ingredients = {ingredient for prod in product_ingredients for ingredient in prod}\n",
    "#     prod_freq = get_document_frequency(all_ingredients, product_ingredients)\n",
    "#     return []"
   ]
  },
  {
   "cell_type": "markdown",
   "id": "70c8095b",
   "metadata": {},
   "source": [
    "Data Wrangling Functions"
   ]
  },
  {
   "cell_type": "code",
   "execution_count": 8,
   "id": "0f7b7f80",
   "metadata": {},
   "outputs": [],
   "source": [
    "def initialize_driver(headless=True):\n",
    "    opts = Options()\n",
    "    if headless:\n",
    "        opts.add_argument(\"--headless\")\n",
    "    #opts.binary_location = \"\"\n",
    "    driver = webdriver.Chrome(options=opts, executable_path=CHROME_DRIVER)\n",
    "    return driver\n",
    "\n",
    "@contextlib.contextmanager\n",
    "def chrome_driver():\n",
    "    driver = initialize_driver()\n",
    "    yield driver\n",
    "    driver.close()\n",
    "\n",
    "@contextlib.contextmanager\n",
    "def wait_for_page_load(driver, timeout=30, poll_freq=2):\n",
    "    # See https://stackoverflow.com/questions/5868439/wait-for-page-load-in-selenium\n",
    "    old_page = driver.find_element_by_tag_name('html')\n",
    "    \n",
    "    yield\n",
    "    \n",
    "    wait = WebDriverWait(driver, timeout, poll_freq)\n",
    "    wait.until(staleness_of(old_page)) \n",
    "\n",
    "def get_page_source(url, driver=None):\n",
    "    if not driver:\n",
    "        with chrome_driver() as driver:\n",
    "            return get_page_source(url, driver)\n",
    "    \n",
    "    with wait_for_page_load(driver):\n",
    "        driver.get(url)\n",
    "        html = driver.find_element_by_tag_name('html')\n",
    "        html.send_keys(KEYS.END)\n",
    "    return driver.page_source\n",
    "\n",
    "def click_if_one(eles):\n",
    "    if len(eles) == 1:\n",
    "        eles[0].click()   \n",
    "\n",
    "def get_about_page_source(url, driver=None):\n",
    "    if not driver:\n",
    "        with chrome_driver() as driver:\n",
    "            return get_about_page_source(url, driver)\n",
    "    \n",
    "    with wait_for_page_load(driver):\n",
    "        driver.get(url)\n",
    "    \n",
    "    click_if_one(driver.find_elements_by_xpath(\"//button[text()='Show more']\"))\n",
    "    click_if_one(driver.find_elements_by_id('tab-Drugfacts'))\n",
    "    click_if_one(driver.find_elements_by_id('tab-Details'))\n",
    "    \n",
    "    return driver.page_source\n",
    "    \n",
    "def get_product_links(page_source):\n",
    "    soup = BeautifulSoup(page_source) \n",
    "    product_cards = soup.find_all('li', attrs={'data-test': 'list-entry-product-card'})\n",
    "    products = []\n",
    "    for card in product_cards:\n",
    "        title = card.find('a', attrs={'data-test': 'product-title'})\n",
    "        if not title:\n",
    "            products.append(\"<Not Found>\")\n",
    "        elif title in PRODUCT_BLACKLIST:\n",
    "            continue\n",
    "        else:\n",
    "            url = f\"{TARGET_PREFIX}{title['href']}\"\n",
    "            products.append(ProductLink(title.string, url))\n",
    "    return products"
   ]
  },
  {
   "cell_type": "markdown",
   "id": "607c38a7",
   "metadata": {},
   "source": [
    "Utilities"
   ]
  },
  {
   "cell_type": "code",
   "execution_count": 9,
   "id": "f7587590",
   "metadata": {},
   "outputs": [],
   "source": [
    "from datetime import datetime\n",
    "class LoadingBar():\n",
    "    def __init__(self, total, mod=None):\n",
    "        self.start = None\n",
    "        self.count = 0\n",
    "        self.total = total\n",
    "        self.mod   = mod if mod else 1 if total < 100 else total//100\n",
    "        \n",
    "    def begin(self):\n",
    "        self.start = datetime.now()\n",
    "        return self\n",
    "        \n",
    "    def update(self):\n",
    "        if not self.start:\n",
    "            self.begin()\n",
    "        self.count += 1\n",
    "        \n",
    "        time_elapsed = (datetime.now()-self.start).seconds\n",
    "        minutes, sec = divmod(time_elapsed, 60)\n",
    "        time_str = f'{minutes: >2}min {sec:02}s'\n",
    "        \n",
    "        rate = self.count/time_elapsed if time_elapsed > 0 else 1\n",
    "        remaining_time = ((self.total-self.count)/rate)/60\n",
    "        \n",
    "        if (self.count % self.mod) and (self.count < self.total):\n",
    "            return\n",
    "        \n",
    "        print(f'{self.count/self.total:4.0%} Done; ({self.count:>4}/{self.total}) {time_str} elapsed [~{round(remaining_time)}min remaining]    \\r', end='')\n",
    "        sys.stdout.flush()\n",
    "        \n",
    "        if self.count == self.total:\n",
    "            print()"
   ]
  },
  {
   "cell_type": "markdown",
   "id": "7e78e32c",
   "metadata": {
    "heading_collapsed": true
   },
   "source": [
    "## Getting Page Sources"
   ]
  },
  {
   "cell_type": "markdown",
   "id": "0af216a5",
   "metadata": {
    "hidden": true
   },
   "source": [
    "Getting the first search result page"
   ]
  },
  {
   "cell_type": "code",
   "execution_count": 11,
   "id": "bfed52e3",
   "metadata": {
    "hidden": true
   },
   "outputs": [],
   "source": [
    "test_page_source = get_page_source(RESULTS_URL)"
   ]
  },
  {
   "cell_type": "markdown",
   "id": "2b0c97c5",
   "metadata": {
    "hidden": true
   },
   "source": [
    "Getting links to other search result pages"
   ]
  },
  {
   "cell_type": "code",
   "execution_count": 12,
   "id": "88d4a937",
   "metadata": {
    "hidden": true
   },
   "outputs": [
    {
     "name": "stdout",
     "output_type": "stream",
     "text": [
      "3335 lines of HTML\n"
     ]
    }
   ],
   "source": [
    "soup = BeautifulSoup(test_page_source)\n",
    "print(len(soup.prettify().split('\\n')), 'lines of HTML')"
   ]
  },
  {
   "cell_type": "code",
   "execution_count": 13,
   "id": "e804371e",
   "metadata": {
    "hidden": true
   },
   "outputs": [
    {
     "name": "stdout",
     "output_type": "stream",
     "text": [
      "True\n",
      "https://www.target.com/s?searchTerm=Sunscreen&Nao=24\n",
      "True\n",
      "page 1 of 14\n"
     ]
    }
   ],
   "source": [
    "next_page_button = soup.find_all('a',attrs={'data-test':\"next\"})\n",
    "print(len(next_page_button) == 1)\n",
    "next_page_button = next_page_button[0]\n",
    "\n",
    "next_page_url = f'{TARGET_PREFIX}{next_page_button[\"href\"]}'\n",
    "print(next_page_url)\n",
    "\n",
    "n_pages = soup.find_all('button',attrs={'data-test':\"select\"})\n",
    "print(len(n_pages) == 1)\n",
    "n_pages = n_pages[0]\n",
    "print(n_pages.text)"
   ]
  },
  {
   "cell_type": "code",
   "execution_count": 553,
   "id": "3e7a75b8",
   "metadata": {
    "hidden": true
   },
   "outputs": [],
   "source": [
    "# Get urls to all result pages (currently scraping product links as well)\n",
    "#%%time\n",
    "# product_links = []\n",
    "# result_urls = []\n",
    "# n_pages = 14\n",
    "# url = RESULTS_URL\n",
    "# for page_num in range(1,n_pages+1):\n",
    "#     print(f\"\\nLoading Page {page_num} :\", url)\n",
    "#     page_source = get_page_source(url, driver)\n",
    "#     soup = BeautifulSoup(page_source)\n",
    "    \n",
    "#     # Get results page number\n",
    "#     page_n = soup.find_all('button',attrs={'data-test':\"select\"})\n",
    "#     if len(page_n) != 1:\n",
    "#         print(\"BUG 1\")\n",
    "#     else:\n",
    "#         print(f'INFO ::', page_n[0].text)\n",
    "    \n",
    "#     # Check\n",
    "#     if driver.current_url != url:\n",
    "#         print(\"DEBUG :: URL Changes\")\n",
    "#         print(\"DEBUG :: Before:\", url)\n",
    "#         print(\"DEBUG :: After:\", driver.current_url)\n",
    "#         break\n",
    "#     result_urls.append(driver.current_url)\n",
    "    \n",
    "#     # Parse\n",
    "#     products = get_product_links(page_source)\n",
    "#     product_links.append(products)\n",
    "#     print(f'INFO :: {len(products)} products extracted')\n",
    "    \n",
    "#     if page_num < n_pages:  \n",
    "#         next_page = soup.find_all('a',attrs={'data-test':\"next\"})\n",
    "#         if len(next_page) != 1:\n",
    "#             print(\"DEBUG :: Can't find next page button\")\n",
    "#             break\n",
    "\n",
    "#         next_page = next_page[0]\n",
    "#         url = f'{TARGET_PREFIX}{next_page[\"href\"]}'"
   ]
  },
  {
   "cell_type": "code",
   "execution_count": 15,
   "id": "83c90088",
   "metadata": {
    "hidden": true
   },
   "outputs": [
    {
     "name": "stdout",
     "output_type": "stream",
     "text": [
      "Page  1 : 28 products : https://www.target.com/s?searchTerm=Sunscreen\n",
      "Page  2 : 28 products : https://www.target.com/s?searchTerm=Sunscreen&Nao=24\n",
      "Page  3 : 28 products : https://www.target.com/s?searchTerm=Sunscreen&Nao=48\n",
      "Page  4 : 26 products : https://www.target.com/s?searchTerm=Sunscreen&Nao=72\n",
      "Page  5 : 24 products : https://www.target.com/s?searchTerm=Sunscreen&Nao=96\n",
      "Page  6 : 24 products : https://www.target.com/s?searchTerm=Sunscreen&Nao=120\n",
      "Page  7 : 24 products : https://www.target.com/s?searchTerm=Sunscreen&Nao=144\n",
      "Page  8 : 24 products : https://www.target.com/s?searchTerm=Sunscreen&Nao=168\n",
      "Page  9 : 24 products : https://www.target.com/s?searchTerm=Sunscreen&Nao=192\n",
      "Page 10 : 24 products : https://www.target.com/s?searchTerm=Sunscreen&Nao=216\n",
      "Page 11 : 24 products : https://www.target.com/s?searchTerm=Sunscreen&Nao=240\n",
      "Page 12 : 24 products : https://www.target.com/s?searchTerm=Sunscreen&Nao=264\n",
      "Page 13 : 24 products : https://www.target.com/s?searchTerm=Sunscreen&Nao=288\n",
      "Page 14 : 12 products : https://www.target.com/s?searchTerm=Sunscreen&Nao=312\n"
     ]
    }
   ],
   "source": [
    "for i, products in enumerate(product_links, 1):\n",
    "    print(f'Page {i:>2} : {len(products)} products :', result_urls[i-1])"
   ]
  },
  {
   "cell_type": "code",
   "execution_count": 549,
   "id": "71bcd076",
   "metadata": {
    "hidden": true
   },
   "outputs": [],
   "source": [
    "# json.dump(product_links, open('sunscreen_products.json','w'))\n",
    "# json.dump(result_urls, open('sunscreen_result_urls.json','w'))"
   ]
  },
  {
   "cell_type": "markdown",
   "id": "4503488e",
   "metadata": {
    "hidden": true
   },
   "source": [
    "**Getting a single product page source**"
   ]
  },
  {
   "cell_type": "code",
   "execution_count": 244,
   "id": "bb9fcff3",
   "metadata": {
    "hidden": true
   },
   "outputs": [
    {
     "name": "stdout",
     "output_type": "stream",
     "text": [
      "323\n"
     ]
    }
   ],
   "source": [
    "all_products = [t for p in product_links for t in p]\n",
    "all_titles = [p.title for p in all_products]\n",
    "all_urls   = [f'{TARGET_PREFIX}{p.url}' for p in all_products]\n",
    "print(len(set(all_titles)))"
   ]
  },
  {
   "cell_type": "code",
   "execution_count": 17,
   "id": "261c7a00",
   "metadata": {
    "hidden": true
   },
   "outputs": [
    {
     "name": "stdout",
     "output_type": "stream",
     "text": [
      "https://www.target.com/p/cerave-am-facial-moisturizing-lotion-with-sunscreen-spf-30/-/A-81616314?preselect=76545851\n",
      "620690 characters of HTML\n"
     ]
    }
   ],
   "source": [
    "test_url = f'{TARGET_PREFIX}{all_products[5].url}'.replace('#lnk=sametab','')\n",
    "print(test_url)\n",
    "test_page_source = get_about_page_source(test_url)\n",
    "print(len(test_page_source), 'characters of HTML')"
   ]
  },
  {
   "cell_type": "code",
   "execution_count": 18,
   "id": "13134674",
   "metadata": {
    "hidden": true
   },
   "outputs": [
    {
     "name": "stdout",
     "output_type": "stream",
     "text": [
      "5660 lines of HTML\n"
     ]
    }
   ],
   "source": [
    "soup = BeautifulSoup(test_page_source)\n",
    "print(len(soup.prettify().split('\\n')), 'lines of HTML')"
   ]
  },
  {
   "cell_type": "code",
   "execution_count": 19,
   "id": "1ab9a58e",
   "metadata": {
    "hidden": true
   },
   "outputs": [
    {
     "name": "stdout",
     "output_type": "stream",
     "text": [
      "False True\n"
     ]
    }
   ],
   "source": [
    "item_details_soup = soup.find('div', attrs={'id': 'tabContent-tab-Details'})\n",
    "drug_facts_soup = soup.find('div', attrs={'id': 'tabContent-tab-Drugfacts'})\n",
    "print(bool(drug_facts_soup), bool(item_details_soup))"
   ]
  },
  {
   "cell_type": "markdown",
   "id": "1f415063",
   "metadata": {
    "hidden": true
   },
   "source": [
    "**Getting page source for all products**"
   ]
  },
  {
   "cell_type": "code",
   "execution_count": 1065,
   "id": "68a4b7a1",
   "metadata": {
    "hidden": true
   },
   "outputs": [
    {
     "name": "stdout",
     "output_type": "stream",
     "text": [
      "Indices: [0, 1, 2, 3, 4, 5, 6, 7, 8, 9, 10, 11, 12, 13, 14, 15, 16, 17, 18, 19, 20, 21, 22, 23, 24, 25, 26, 27, 28, 29, 30, 31, 32, 33, 34, 35, 36, 37, 38, 39, 40, 41, 42, 43, 44, 45, 46, 47, 48, 49, 50, 51, 52, 53, 54, 55, 56, 57, 58, 59, 60, 61, 62, 63, 64, 65, 66, 67, 68, 69, 70, 71, 72, 73, 74, 75, 76, 77, 78, 79, 80, 81, 82, 83, 84, 85, 86, 87, 88, 89, 90, 91, 92, 93, 94, 95, 96, 97, 98, 99, 100, 101, 102, 103, 104, 105, 106, 107, 108, 109, 110, 111, 112, 113, 114, 115, 116, 117, 118, 119, 120, 121, 122, 123, 124, 125, 126, 127, 128, 129, 130, 131, 132, 133, 134, 135, 136, 137, 138, 139, 140, 141, 142, 143, 144, 145, 146, 147, 148, 149, 150, 151, 152, 153, 154, 155, 156, 157, 158, 159, 160, 161, 162, 163, 164, 165, 166, 167, 168, 169, 170, 171, 172, 173, 174, 175, 176, 177, 178, 179, 180, 181, 182, 183, 184, 185, 186, 187, 188, 189, 190, 191, 192, 193, 194, 195, 196, 197, 198, 199, 200, 201, 202, 203, 204, 205, 206, 207, 208, 209, 210, 211, 212, 213, 214, 215, 216, 217, 218, 219, 220, 221, 222, 223, 224, 225, 226, 227, 228, 229, 230, 231, 232, 233, 234, 235, 236, 237, 238, 239, 240, 241, 242, 243, 244, 245, 246, 247, 248, 249, 250, 251, 252, 253, 254, 255, 256, 257, 258, 259, 260, 261, 262, 263, 264, 265, 266, 267, 268, 269, 270, 271, 272, 273, 274, 275, 276, 277, 278, 279, 280, 281, 282, 283, 284, 285, 286, 287, 288, 289, 290, 291, 292, 293, 294, 295, 296, 297, 298, 299, 300, 301, 302, 303, 304, 305, 306, 307, 308, 309, 310, 311, 312, 313, 314, 315, 316, 317, 318, 319, 320, 321, 322, 323, 324, 325, 326, 327, 328, 329, 330, 331, 332, 333, 334, 335, 336, 337]\n",
      "\n",
      " 338 URLs\n"
     ]
    }
   ],
   "source": [
    "indices = sorted(set([\n",
    "    #1,2,3,\n",
    "    #*list(range(0,10)),\n",
    "    *list(range(0,len(all_urls))),\n",
    "]))\n",
    "print('Indices:', indices)\n",
    "\n",
    "selector = itemgetter(*indices)\n",
    "urls = selector(all_urls)\n",
    "print('\\n',len(urls), 'URLs')"
   ]
  },
  {
   "cell_type": "code",
   "execution_count": 839,
   "id": "affb7240",
   "metadata": {
    "hidden": true
   },
   "outputs": [
    {
     "name": "stdout",
     "output_type": "stream",
     "text": [
      "100% Done; (  56/56)  7min 54s elapsed [~0min remaining]    \n",
      "\n"
     ]
    }
   ],
   "source": [
    "# product_pages = ['']*len(all_urls)\n",
    "# load_bar = LoadingBar(len(urls), mod=1).begin()\n",
    "# for i, url in enumerate(all_urls):\n",
    "#     load_bar.update()\n",
    "#     if i not in indices:\n",
    "#         continue\n",
    "#     if all_titles[i] in PRODUCT_BLACKLIST:\n",
    "#         continue\n",
    "#     try:\n",
    "#         test_page_source = get_about_page_source(url)\n",
    "#     except:\n",
    "#         print()\n",
    "#         print('ERROR :: url   =', url)\n",
    "#         print(sys.exc_info()[0])\n",
    "#         test_page_source = ''\n",
    "#     product_pages[i] = test_page_source\n",
    "# print()"
   ]
  },
  {
   "cell_type": "code",
   "execution_count": 20,
   "id": "7a02b771",
   "metadata": {
    "hidden": true
   },
   "outputs": [
    {
     "name": "stdout",
     "output_type": "stream",
     "text": [
      "338 pages scraped\n",
      "0 pages failed to be scraped\n"
     ]
    }
   ],
   "source": [
    "print(len(product_pages),'pages scraped')\n",
    "print(sum([1 for p in product_pages if not p]), 'pages failed to be scraped')"
   ]
  },
  {
   "cell_type": "markdown",
   "id": "69eb6481",
   "metadata": {
    "hidden": true
   },
   "source": [
    "Diff check before overwriting"
   ]
  },
  {
   "cell_type": "code",
   "execution_count": 22,
   "id": "b88a43d0",
   "metadata": {
    "hidden": true
   },
   "outputs": [],
   "source": [
    "old_product_pages = pickle.load(open('product_pages.pkl', 'rb'))"
   ]
  },
  {
   "cell_type": "code",
   "execution_count": 23,
   "id": "875da6ae",
   "metadata": {
    "hidden": true
   },
   "outputs": [
    {
     "name": "stdout",
     "output_type": "stream",
     "text": [
      "\n",
      "DONE\n"
     ]
    }
   ],
   "source": [
    "for i, source in enumerate(old_product_pages):\n",
    "    if source != product_pages[i]:\n",
    "        print(i, end=', ')\n",
    "print()\n",
    "print('DONE')"
   ]
  },
  {
   "cell_type": "code",
   "execution_count": 849,
   "id": "d2e98e85",
   "metadata": {
    "hidden": true
   },
   "outputs": [],
   "source": [
    "#pickle.dump(product_pages, open('product_pages.pkl', 'wb'))"
   ]
  },
  {
   "cell_type": "markdown",
   "id": "2b615a53",
   "metadata": {
    "heading_collapsed": true
   },
   "source": [
    "## Extracting Data"
   ]
  },
  {
   "cell_type": "markdown",
   "id": "bac271df",
   "metadata": {
    "hidden": true
   },
   "source": [
    "**Extracting Product Links** from results pages"
   ]
  },
  {
   "cell_type": "code",
   "execution_count": 33,
   "id": "6410851d",
   "metadata": {
    "hidden": true
   },
   "outputs": [
    {
     "name": "stdout",
     "output_type": "stream",
     "text": [
      "https://www.target.com/s?searchTerm=Sunscreen\n"
     ]
    }
   ],
   "source": [
    "test_url = RESULTS_URL\n",
    "print(test_url)\n",
    "test_page_source = get_page_source(test_url)"
   ]
  },
  {
   "cell_type": "code",
   "execution_count": 34,
   "id": "9f9367fd",
   "metadata": {
    "hidden": true
   },
   "outputs": [
    {
     "name": "stdout",
     "output_type": "stream",
     "text": [
      "28 products scraped\n",
      "Neutrogena Beach Defense Lotion - SPF 50 - 6.7 fl oz\n"
     ]
    }
   ],
   "source": [
    "# Extract Manually\n",
    "soup = BeautifulSoup(test_page_source)\n",
    "body = soup.body\n",
    "root = body.find('div', id='root')\n",
    "main = root.find('div', id='mainContainer')\n",
    "grid = main.find('div', attrs={'data-test': 'product-grid'})\n",
    "product_list = grid.find('div', attrs={'data-test': 'product-list-container'})\n",
    "product_cards = product_list.find_all('li', attrs={'data-test': 'list-entry-product-card'})\n",
    "print(len(product_cards), 'products scraped')\n",
    "\n",
    "test_card = product_cards[-1]\n",
    "card_body = test_card.find('div', attrs={'data-test': 'productCardBody'})\n",
    "product_title = card_body.find('a', attrs={'data-test': 'product-title'})\n",
    "print(product_title.string)"
   ]
  },
  {
   "cell_type": "code",
   "execution_count": 36,
   "id": "a2c9e54f",
   "metadata": {
    "hidden": true
   },
   "outputs": [
    {
     "name": "stdout",
     "output_type": "stream",
     "text": [
      " 0 : Continuous Sport Sunscreen Spray - up & up™\n",
      " 1 : Sport Sunscreen Spray - SPF 50 - 2pk/11oz - up & up™\n",
      " 2 : CeraVe Hydrating Mineral Face Sunscreen Lotion with Zinc Oxide – SPF 30 - 2.5oz\n",
      " 3 : Neutrogena Kids Oil Free Water Resistant Sunscreen Spray Pack - SPF 70 - 5oz\n",
      " 4 : Coppertone Sport Sunscreen Spray\n",
      " 5 : CeraVe Ultra-Light Face Moisturizer with Sunscreen - SPF 30 – 1.7oz\n",
      " 6 : Banana Boat Ultra Sport Clear Sunscreen Spray\n",
      " 7 : Sun Bum Original Sunscreen Spray - 6 oz\n",
      " 8 : CeraVe Hydrating Mineral Face Sunscreen Lotion with Zinc Oxide – SPF 50 – 2.5oz\n",
      " 9 : Sun Bum Original Sunscreen Lotion\n",
      "10 : Sport Sunscreen Lotion - 10.4 fl oz - up & up™\n",
      "11 : CeraVe AM Facial Moisturizing Lotion with Sunscreen - SPF 30\n",
      "12 : Neutrogena Ultra Sheer Dry-Touch Sunscreen Lotion\n",
      "13 : Kids Sunscreen Spray - SPF 50 - up & up™\n",
      "14 : Coppertone Pure & Simple Sunscreen Lotion - SPF 50 - 6 fl oz\n",
      "15 : Sun Bum Sunscreen Face Stick - SPF 30 - 0.45oz\n",
      "16 : Coppertone Kids Sunscreen Spray - SPF 50 - 11oz - Twin Pack\n",
      "17 : Babyganics Mineral-Based Baby Sunscreen Lotion, SPF 50 - 6 fl oz\n",
      "18 : CeraVe Ultra-Light Face Moisturizer with Sunscreen - SPF 30 – 1.7oz\n",
      "19 : Coppertone Pure and Simple Botanicals Faces Sunscreen Lotion- SPF 50 - 2oz\n",
      "20 : Sport Sunscreen Spray Twin Pack - SPF 30 - 14.6oz - up & up™\n",
      "21 : Coppertone Sport Sunscreen Lotion - 7 fl oz\n",
      "22 : Neutrogena Clear Face Liquid Sunscreen Lotion - 3 fl oz\n",
      "23 : The Banana Boat Sunscreen Collection\n",
      "24 : The Hawaiian Tropic Sunscreen Collection\n",
      "25 : Banana Boat Ultra Sport Sunscreen Lotion - 8 fl oz\n",
      "26 : Coppertone Kids Tear Free Mineral Sunscreen Lotion - SPF 50 - 8oz\n",
      "27 : Neutrogena Beach Defense Lotion - SPF 50 - 6.7 fl oz\n"
     ]
    }
   ],
   "source": [
    "# Function call\n",
    "products = get_product_links(test_page_source)\n",
    "for i, p in enumerate(products):\n",
    "    print(f'{i:>2} : {p.title}')"
   ]
  },
  {
   "cell_type": "markdown",
   "id": "fbabc96a",
   "metadata": {
    "hidden": true
   },
   "source": [
    "**Extracting Product Details** from product page\n",
    "- [ ] Scrape ingredients from ingredient tab\n",
    "- [ ] Scrape ingredients from details tab when there is no ingredients tab\n",
    "- [ ] Scrape details from details tab"
   ]
  },
  {
   "cell_type": "code",
   "execution_count": 45,
   "id": "3de32e72",
   "metadata": {
    "hidden": true
   },
   "outputs": [],
   "source": [
    "drug_facts_headers = [\n",
    "    # Ingredients\n",
    "    'Active ingredients',\n",
    "    'Inactive ingredients',\n",
    "    \n",
    "    # Warnings and restrictions\n",
    "    'Children under 6 months',\n",
    "    'Do not use',\n",
    "    'Stop use and ask a doctor if',\n",
    "    'Keep out of reach',\n",
    "    'Warnings', \n",
    "\n",
    "    # Usage\n",
    "    'Uses',\n",
    "    'For use',\n",
    "    'When using',\n",
    "    'Purpose',\n",
    "    'Directions',\n",
    "    \n",
    "    # Contact info\n",
    "    'Question or comments?',\n",
    "    \n",
    "    # Other\n",
    "    'Other information',\n",
    "    \n",
    "]\n",
    "\n",
    "header_translate = {\n",
    "    'Active ingredient' : 'Active ingredients',\n",
    "    'doNotUse': 'Do not use',\n",
    "    'forUse' : 'For use',\n",
    "    'outOfReach' : 'Keep out of reach',\n",
    "    'whenUsing': 'When using',\n",
    "    'When using this product' : 'When using',\n",
    "    'stopUse': 'Stop use and ask a doctor if',\n",
    "    'Other Information': 'Other information',\n",
    "    'Other warnings' : 'Warnings',\n",
    "    'Children Under 6 Months' : 'Children under 6 months',\n",
    "    'Children Under 6 Months of Age' : 'Children under 6 months',\n",
    "    'Children under 6 months of age' : 'Children under 6 months',\n",
    "    'For Use on Children Less Than 6 Months of Age' : 'Children under 6 months',\n",
    "}"
   ]
  },
  {
   "cell_type": "markdown",
   "id": "b45334b4",
   "metadata": {
    "hidden": true
   },
   "source": [
    "Test Parsing Strings"
   ]
  },
  {
   "cell_type": "code",
   "execution_count": 46,
   "id": "0b63a344",
   "metadata": {
    "hidden": true
   },
   "outputs": [],
   "source": [
    "check_phrases = [\n",
    "    #'other information protect this product from excessive heat and direct sun',\n",
    "    #'protect this product from excessive heat and direct sun',\n",
    "    ' this ',\n",
    "    ' see ',\n",
    "    ' for ',\n",
    "    #'certified organic',\n",
    "    #'+certified organic ingredient',\n",
    "    #'+certified organic ingredients unless otherwise specified',\n",
    "    #'†certified organic ingredient',\n",
    "    #'active ingredients',\n",
    "    # ?\n",
    "    #'xanthan gum plant-derived scent constituent',    \n",
    "]"
   ]
  },
  {
   "cell_type": "code",
   "execution_count": 90,
   "id": "8e8936ce",
   "metadata": {
    "hidden": true
   },
   "outputs": [
    {
     "name": "stdout",
     "output_type": "stream",
     "text": [
      "Input: 'active ingredients: avobenzone  zinc oxide  octisalate  octocrylene' \n",
      "Output:\n",
      "- Ingredient(name='avobenzone', rank=None, percent=None, alt_names=None)\n",
      "- Ingredient(name='zinc oxide', rank=None, percent=None, alt_names=None)\n",
      "- Ingredient(name='octisalate', rank=None, percent=None, alt_names=None)\n",
      "- Ingredient(name='octocrylene', rank=None, percent=None, alt_names=None)\n",
      "\n",
      "Input: 'glycerin,stearic acid, peg-100 stearate, water (aqua), carthamus (thing) tinctorius (safflower) seed (organic) oil*, flower extract. *certified organic ingredients.,' \n",
      "Output:\n",
      "- Ingredient(name='glycerin', rank=None, percent=None, alt_names=None)\n",
      "- Ingredient(name='stearic acid', rank=None, percent=None, alt_names=None)\n",
      "- Ingredient(name='peg-100 stearate', rank=None, percent=None, alt_names=None)\n",
      "- Ingredient(name='water', rank=None, percent=None, alt_names='aqua')\n",
      "- Ingredient(name='carthamus tinctorius seed oil', rank=None, percent=None, alt_names='thing, safflower, organic')\n",
      "- Ingredient(name='flower extract', rank=None, percent=None, alt_names=None)\n"
     ]
    }
   ],
   "source": [
    "fields = ('name', 'rank', 'percent', 'alt_names')\n",
    "Ingredient = namedtuple('Ingredient', fields, defaults=(None,)*len(fields))\n",
    "\n",
    "remove_phrase = re.compile(r'''\n",
    "    (in)?active\\ ingredients(:)?\n",
    "    |(?<!^)[\\+†\\*]?certified\\ organic.*\n",
    "    |^certified\\ organic\\ to\\ usda\n",
    "    |(?<!^)[\\+†\\*]naturally\\ derived.*\n",
    "    |(?<!^)[\\+†\\*]natural\\ fragrance.*\n",
    "    |other\\ information.*\n",
    "    |[\\+†\\*]\n",
    "    |[\\.]+(?=[\\s$])\n",
    "    |,\\s*$\n",
    "    |^\\s*,\n",
    "''', re.VERBOSE)\n",
    "# Extract active ingredients\n",
    "# 'avobenzone (2.0%)' -> ['avobenzone', '2.0']\n",
    "# 'zinc oxide (non-nano) 3.5%' -> ['zinc oxide', '3.5', '(non-nano)']\n",
    "# 'zinc oxide 3.5% (non-nano)' -> ['zinc oxide', '3.5', '(non-nano)']\n",
    "patt = re.compile(r'''\n",
    "    (?<!\\()(\\w[\\w\\s]+)\n",
    "    \\s+\n",
    "    (\\([A-Za-z-\\s]+\\)\\s+)?\n",
    "    (\\(?(\\d+(\\.\\d+)?)\\s*%\\)?)?\n",
    "    (\\s+\\([A-Za-z-\\s]+\\)\\s*)?\n",
    "''', re.VERBOSE) \n",
    "def parse_active_ingredients(text):\n",
    "    ingredients = []    \n",
    "    text = remove_phrase.sub(\"\",text)\n",
    "    \n",
    "    if '%' not in text:\n",
    "        for name in re.split('  ',text):\n",
    "            name = name.strip()\n",
    "            if name:\n",
    "                ingredients.append(Ingredient(name=name.strip()))\n",
    "        return ingredients\n",
    "    \n",
    "    percents = sorted([float(m.group(4)) for m in patt.finditer(text) if m.group(4)], reverse=True)\n",
    "    for m in patt.finditer(text):\n",
    "        a = m.group(2) if m.group(2) else m.group(6) if m.group(6) else None\n",
    "        if a is not None:\n",
    "            a = a.strip()[1:-1].strip()\n",
    "        p = float(m.group(4)) if m.group(4) else None\n",
    "        r = percents.index(p) if m.group(4) else None\n",
    "        item = Ingredient(name=m.group(1).strip(), alt_names=a, percent=p, rank=r)\n",
    "        if len(item.name) <= 2 or item.name in ['sunscreen']:\n",
    "            print(f'DEBUG active : {repr(item.name)} from {text}')\n",
    "        ingredients.append(item)\n",
    "    return ingredients\n",
    "\n",
    "# TEST\n",
    "#s = 'certified organic to usda avobenzone (2.0%) (2 %), ensulizole (5%) octisalate (5 %), zinc oxide 7.25% (non nano), zinc oxide (non-nano) 7.25%.'\n",
    "s = 'active ingredients: avobenzone  zinc oxide  octisalate  octocrylene'\n",
    "print('Input:',repr(s),'\\nOutput:')\n",
    "out = parse_active_ingredients(s)\n",
    "for item in out:\n",
    "    print('-',item)\n",
    "print()\n",
    "\n",
    "def parse_inactive_ingredients(text):\n",
    "    '''\n",
    "    NOTES:\n",
    "    - Inferring rank: Some lists are ordered by rank while others are semi-alphabetical making it difficult to verify rank ordering is used\n",
    "    '''\n",
    "    ingredients = []\n",
    "    text = re.sub(',{2,}',',',text)\n",
    "    text = re.sub('(?<=[a-z]),(?=[a-z])',', ', text)\n",
    "    text = remove_phrase.sub(\"\",text)\n",
    "    if ',' not in text:\n",
    "        # Usually means no ingredients listed and instead there is a description\n",
    "        # e.g. 'protect this product from excessive heat'\n",
    "        return []\n",
    "    \n",
    "    if any(x in text for x in check_phrases):\n",
    "        print(\"DEBUG phrase :\", text)\n",
    "    for t in re.split(r',\\s+', text):\n",
    "        if not t: \n",
    "            continue\n",
    "        # RegEx: tinctorius (safflower) oil (slimy) -> ['(safflower)', '(slimy)']\n",
    "        m = re.findall(r'\\([^)]+\\)',t)\n",
    "        if m:\n",
    "            name = t\n",
    "            for paren in m:\n",
    "                name = name.replace(paren,'')\n",
    "            alt_names = ', '.join([paren[1:-1].strip() for paren in m])\n",
    "        else:\n",
    "            name = t\n",
    "            alt_names = None\n",
    "        name = re.sub(r'\\*|\\.$',\" \",name)\n",
    "        name = re.sub(r'\\s+', ' ', name).strip() # remove extra spaces, periods, and astericks\n",
    "        if len(name) <= 2 or name.startswith(',') or re.search('[a-z][\\.,][a-z]',name) or ':' in name:\n",
    "            print(f'DEBUG inactive : {repr(name)} from {text}')\n",
    "        item = Ingredient(name=name, alt_names=alt_names)\n",
    "        ingredients.append(item)\n",
    "    \n",
    "    return ingredients\n",
    "\n",
    "# TEST\n",
    "s = 'glycerin,stearic acid, peg-100 stearate, water (aqua), carthamus (thing) tinctorius (safflower) seed (organic) oil*, flower extract. *certified organic ingredients.,'\n",
    "#s = 'protect this product from excessive heat and sun.'\n",
    "print('Input:',repr(s),'\\nOutput:')\n",
    "out = parse_inactive_ingredients(s)\n",
    "for item in out:\n",
    "    print('-',item)"
   ]
  },
  {
   "cell_type": "markdown",
   "id": "893f37ba",
   "metadata": {
    "hidden": true
   },
   "source": [
    "Test Parsing Page"
   ]
  },
  {
   "cell_type": "code",
   "execution_count": 165,
   "id": "dba924ad",
   "metadata": {
    "hidden": true
   },
   "outputs": [
    {
     "name": "stdout",
     "output_type": "stream",
     "text": [
      "66) Babyganics Sun & Bug Duo Set\n",
      "https://www.target.com/p/babyganics-sun-bug-duo-set/-/A-51265294#lnk=sametab\n"
     ]
    }
   ],
   "source": [
    "#index = all_titles.index('Thinksport Mineral Kids Sunscreen Lotion - SPF 50 - 3oz')\n",
    "index = 66 #random.Random(10).randint(0,len(product_pages))\n",
    "test_product_page_source = product_pages[index]\n",
    "print(f'{index})',all_titles[index])\n",
    "print(all_urls[index])"
   ]
  },
  {
   "cell_type": "code",
   "execution_count": 157,
   "id": "e7869a09",
   "metadata": {
    "hidden": true
   },
   "outputs": [
    {
     "name": "stdout",
     "output_type": "stream",
     "text": [
      "4333 lines of HTML\n"
     ]
    }
   ],
   "source": [
    "soup = BeautifulSoup(test_product_page_source)\n",
    "print(len(soup.prettify().split('\\n')), 'lines of HTML')"
   ]
  },
  {
   "cell_type": "code",
   "execution_count": 158,
   "id": "86f044ca",
   "metadata": {
    "hidden": true
   },
   "outputs": [
    {
     "name": "stdout",
     "output_type": "stream",
     "text": [
      "True True\n"
     ]
    }
   ],
   "source": [
    "item_details_soup = soup.find('div', attrs={'id': 'tabContent-tab-Details'})\n",
    "drug_facts_soup = soup.find('div', attrs={'id': 'tabContent-tab-Drugfacts'})\n",
    "print(bool(drug_facts_soup), bool(item_details_soup))"
   ]
  },
  {
   "cell_type": "code",
   "execution_count": 159,
   "id": "127d7c14",
   "metadata": {
    "hidden": true
   },
   "outputs": [],
   "source": [
    "#print(drug_facts_soup.prettify())"
   ]
  },
  {
   "cell_type": "code",
   "execution_count": 160,
   "id": "0f81f7fd",
   "metadata": {
    "hidden": true
   },
   "outputs": [
    {
     "name": "stdout",
     "output_type": "stream",
     "text": [
      "DEBUG active in inactive : natural insect repellent: active ingredients: 95.25% soybean oil (certified organic ingredient), 1.50% rosemary oil, 0.95% citronella oil, 0.75% geranium oil, 0.70% cedarwood oil, 0.60% peppermint oil and 0.25% lemongrass oil, mineral-based sunscreen spray: water, caprylic/capric triglyceride, glycerin, aloe barbadensis leaf juice (certified organic ingredient), vp/hexadecene copolymer, glyceryl stearate, hexaglyceryl polyricinoleate, polysorbate 80, phenethyl alcohol, glyceryl caprylate, sodium magnesium silicate, xanthan gum, hydroxyethyl acrylate/sodium acryloyldimethyltaurate copolymer, citric acid, squalane, solanum lycopersicum (tomato) seed oil, helianthus annuus (sunflower) seed oil (certified organic ingredient), lecithin (certified organic ingredient), polysorbate 60, vaccinium macrocarpon (cranberry) seed oil, rubus idaeus (red raspberry) seed oil, nigella sativa (black cumin) seed oil (certified organic ingredient), sorbitan isostearate.\n",
      ">>> Active ingredients <<<\n",
      "RAW : 'Zinc Oxide (11.2%), Octinoxate (7.5%), Octisalate (5.0%).'\n",
      "\n",
      "| name       |   rank |   percent | alt_names   |\n",
      "|------------|--------|-----------|-------------|\n",
      "| Zinc Oxide |      0 |      11.2 |             |\n",
      "| Octinoxate |      1 |       7.5 |             |\n",
      "| Octisalate |      2 |       5   |             |\n",
      "--------------------------------------------------------------------------------\n",
      ">>> Inactive ingredients <<<\n",
      "RAW : 'natural insect repellent: active ingredients: 95.25% soybean oil (certified organic ingredient), 1.50% rosemary oil, 0.95% citronella oil, 0.75% geranium oil, 0.70% cedarwood oil, 0.60% peppermint oil and 0.25% lemongrass oil, mineral-based sunscreen spray: water, caprylic/capric triglyceride, glycerin, aloe barbadensis leaf juice (certified organic ingredient), vp/hexadecene copolymer, glyceryl stearate, hexaglyceryl polyricinoleate, polysorbate 80, phenethyl alcohol, glyceryl caprylate, sodium magnesium silicate, xanthan gum, hydroxyethyl acrylate/sodium acryloyldimethyltaurate copolymer, citric acid, squalane, solanum lycopersicum (tomato) seed oil, helianthus annuus (sunflower) seed oil (certified organic ingredient), lecithin (certified organic ingredient), polysorbate 60, vaccinium macrocarpon (cranberry) seed oil, rubus idaeus (red raspberry) seed oil, nigella sativa (black cumin) seed oil (certified organic ingredient), sorbitan isostearate.'\n",
      "\n",
      "| name   | rank   | percent   | alt_names   |\n",
      "|--------|--------|-----------|-------------|\n",
      "--------------------------------------------------------------------------------\n"
     ]
    }
   ],
   "source": [
    "def extract_details_from_drug_facts(drug_facts_soup, raw=None):\n",
    "    h4_headers = [h.string for h in drug_facts_soup.find_all('h4')]\n",
    "    drug_facts = {}\n",
    "    header = ''\n",
    "    for idx, text in enumerate(drug_facts_soup.stripped_strings):\n",
    "        # stripped_strings usually returns [header, text, header, text, ...]\n",
    "        # Some headers have no text -> [header, header, text, header, text, ...]\n",
    "        if text in h4_headers:\n",
    "            # Track previous text as the header\n",
    "            text = text.replace(':','')\n",
    "            header = header_translate.get(text, text)\n",
    "            if header not in drug_facts_headers:\n",
    "                print('New Header:', repr(header))\n",
    "            continue\n",
    "            \n",
    "        # Check if active and inactive stored in inactive\n",
    "        active_in_inactive = False\n",
    "        if header == 'Inactive ingredients' and re.search(r'\\bactive ingredients', text):\n",
    "            m = re.search('active ingredients:(.*). inactive ingredients:(.*)', text)\n",
    "            if m:\n",
    "                active_text = m.group(1)\n",
    "                inactive_text = m.group(2)\n",
    "                active_in_inactive = True\n",
    "            else:\n",
    "                print(\"DEBUG active in inactive :\", text)\n",
    "\n",
    "        \n",
    "        if raw is not None: raw[header] = text\n",
    "        if header == 'Active ingredients':\n",
    "            drug_facts[header] = parse_active_ingredients(text)\n",
    "        elif active_in_inactive:\n",
    "            if raw is not None: raw['Active ingredients'] = active_text\n",
    "            drug_facts['Active ingredients'] = parse_active_ingredients(active_text)\n",
    "            drug_facts['Inactive ingredients'] = parse_inactive_ingredients(inactive_text)\n",
    "        elif header == 'Inactive ingredients':\n",
    "            drug_facts[header] = parse_inactive_ingredients(text)\n",
    "        elif header in drug_facts_headers:\n",
    "            # No useful info expected\n",
    "            continue\n",
    "        else:\n",
    "            drug_facts[header] = text\n",
    "    \n",
    "    return drug_facts\n",
    "\n",
    "raw = {}\n",
    "for k,v in extract_details_from_drug_facts(drug_facts_soup, raw).items():\n",
    "    print('>>>',k,'<<<')\n",
    "    print('RAW :', repr(raw[k]))\n",
    "    print()\n",
    "    table = [[x for x in ing] for ing in v]\n",
    "    print(tabulate(table, headers=Ingredient._fields, tablefmt='github'))\n",
    "    #pprint(v)\n",
    "    print('-'*80)"
   ]
  },
  {
   "cell_type": "markdown",
   "id": "5a2143f4",
   "metadata": {
    "hidden": true
   },
   "source": [
    "**Extract Product Data** from all product pages"
   ]
  },
  {
   "cell_type": "code",
   "execution_count": 96,
   "id": "63614eaf",
   "metadata": {
    "hidden": true
   },
   "outputs": [],
   "source": [
    "def extract_product_details(page_source):\n",
    "    soup = BeautifulSoup(page_source)\n",
    "    drug_facts = soup.find('div', attrs={'id': 'tabContent-tab-Drugfacts'})\n",
    "    if not drug_facts:\n",
    "        prod_details = soup.find('div', attrs={'id': 'tabContent-tab-Details'})\n",
    "        details = extract_details_from_prod_details(prod_details)\n",
    "    else:\n",
    "        details = extract_details_from_drug_facts(drug_facts)\n",
    "    return details\n",
    "\n",
    "def extract_details_from_prod_details(prod_details):\n",
    "    return {'STUB' : 'STUB'}"
   ]
  },
  {
   "cell_type": "code",
   "execution_count": 171,
   "id": "c34af1df",
   "metadata": {
    "hidden": true
   },
   "outputs": [
    {
     "name": "stdout",
     "output_type": "stream",
     "text": [
      "Indices: []\n"
     ]
    }
   ],
   "source": [
    "indices = sorted(set([\n",
    "    #23,64,84\n",
    "    #*list(range(60,70)),\n",
    "    #*list(range(0,len(all_urls))),\n",
    "]))\n",
    "print('Indices:', indices)"
   ]
  },
  {
   "cell_type": "code",
   "execution_count": 172,
   "id": "4881d3e1",
   "metadata": {
    "hidden": true
   },
   "outputs": [
    {
     "name": "stdout",
     "output_type": "stream",
     "text": [
      "100% Done; ( 338/338)  0min 44s elapsed [~0min remaining]    \n",
      "\n",
      "CPU times: user 41.6 s, sys: 1.33 s, total: 43 s\n",
      "Wall time: 44.4 s\n"
     ]
    }
   ],
   "source": [
    "%%time\n",
    "tmp_product_details = {}\n",
    "load = LoadingBar(len(product_pages), mod=1).begin()\n",
    "for i, page_source in enumerate(product_pages):\n",
    "    load.update()\n",
    "    if indices and i not in indices:\n",
    "        continue\n",
    "    product = all_titles[i]\n",
    "    if product in PRODUCT_BLACKLIST:\n",
    "        tmp_product_details[product] = {'Skip' : None}\n",
    "        continue\n",
    "    #print(i, end=', ')\n",
    "    tmp_product_details[product] = extract_product_details(page_source)\n",
    "    if not tmp_product_details[product]:\n",
    "        print(f'No details for URL[{i}]:', all_urls[i])\n",
    "print()"
   ]
  },
  {
   "cell_type": "code",
   "execution_count": 173,
   "id": "6f56fbc8",
   "metadata": {
    "hidden": true
   },
   "outputs": [],
   "source": [
    "product_details = tmp_product_details"
   ]
  },
  {
   "cell_type": "code",
   "execution_count": 174,
   "id": "7986d4b6",
   "metadata": {
    "hidden": true
   },
   "outputs": [
    {
     "name": "stdout",
     "output_type": "stream",
     "text": [
      "Babyganics Sun & Bug Duo Set\n",
      "{'Skip': None}\n"
     ]
    }
   ],
   "source": [
    "title = all_titles[index]\n",
    "print(title)\n",
    "pprint(product_details[title])"
   ]
  },
  {
   "cell_type": "code",
   "execution_count": 175,
   "id": "e53c652b",
   "metadata": {
    "hidden": true
   },
   "outputs": [],
   "source": [
    "old_product_details = pickle.load(open('product_details.pkl','rb'))"
   ]
  },
  {
   "cell_type": "code",
   "execution_count": 65,
   "id": "63161e71",
   "metadata": {
    "hidden": true
   },
   "outputs": [
    {
     "data": {
      "text/plain": [
       "False"
      ]
     },
     "execution_count": 65,
     "metadata": {},
     "output_type": "execute_result"
    }
   ],
   "source": [
    "old_product_details == product_details"
   ]
  },
  {
   "cell_type": "code",
   "execution_count": null,
   "id": "000c3d13",
   "metadata": {
    "hidden": true
   },
   "outputs": [],
   "source": [
    "#pickle.dump(product_details, open('product_details.pkl','wb'))\n",
    "product_details = old_product_details"
   ]
  },
  {
   "cell_type": "markdown",
   "id": "c1a3f4dc",
   "metadata": {
    "heading_collapsed": true
   },
   "source": [
    "## Cleaning Data"
   ]
  },
  {
   "cell_type": "markdown",
   "id": "86be6521",
   "metadata": {
    "hidden": true
   },
   "source": [
    "- [ ] Map ingredients of same type to same name \n",
    "    - [ ] Name varients (e.g. `water, water/eau, purified water` -> `water`)\n",
    "    - [ ] Typos or bugs (e.g. `water vitamin e` -> `['water', 'vitamin e']`)\n",
    "- [ ] Remove duplicate products\n",
    "- [ ] Parse titles (brand, spf, fluid oz, etc.)\n",
    "- [ ] Combine data into table"
   ]
  },
  {
   "cell_type": "code",
   "execution_count": 66,
   "id": "089c39cc",
   "metadata": {
    "hidden": true
   },
   "outputs": [],
   "source": [
    "#all_products = [t for p in product_links for t in p]\n",
    "#all_titles = [p.title for p in all_products]\n",
    "#all_urls   = [p.url   for p in all_products]\n",
    "#print(len(all_titles),len(all_urls), sep=', ')\n",
    "#print(len(set(all_titles)),len(set(all_urls)), sep=', ')"
   ]
  },
  {
   "cell_type": "code",
   "execution_count": 194,
   "id": "9a67cf67",
   "metadata": {
    "hidden": true
   },
   "outputs": [
    {
     "name": "stdout",
     "output_type": "stream",
     "text": [
      "2.2 avg active ingredients\n",
      "16 unique active ingredients\n",
      "18.3 avg inactive ingredients\n",
      "809 unique inactive ingredients\n"
     ]
    }
   ],
   "source": [
    "n_active = [0]*len(product_details)\n",
    "all_active_ingredients = []\n",
    "n_inactive = [0]*len(product_details)\n",
    "all_inactive_ingredients = []\n",
    "for i, (prod, details) in enumerate(product_details.items()):\n",
    "    if 'Active ingredients' in details:\n",
    "        n_active[i] = len(details['Active ingredients'])\n",
    "        for ingred in details['Active ingredients']:\n",
    "            #if ingred.name in ['sunscreen']:\n",
    "            #    print(f'DEBUG : {i}) {ingred}; {prod}')\n",
    "            all_active_ingredients.append(ingred.name)\n",
    "    if 'Inactive ingredients' in details:\n",
    "        n_inactive[i] = len(details['Inactive ingredients'])\n",
    "        for ingred in details['Inactive ingredients']:\n",
    "            all_inactive_ingredients.append(ingred.name)\n",
    "\n",
    "all_active_ctr = Counter(all_active_ingredients)\n",
    "all_active_set = sorted(all_active_ctr)\n",
    "\n",
    "all_inactive_ctr = Counter(all_inactive_ingredients)\n",
    "all_inactive_set = sorted(all_inactive_ctr)\n",
    "\n",
    "print(f'{sum(n_active)/len(n_active):.1f} avg active ingredients')\n",
    "print(f'{len(all_active_ctr)} unique active ingredients')\n",
    "print(f'{sum(n_inactive)/len(n_inactive):.1f} avg inactive ingredients')\n",
    "print(f'{len(all_inactive_ctr)} unique inactive ingredients')"
   ]
  },
  {
   "cell_type": "code",
   "execution_count": 177,
   "id": "f777ebea",
   "metadata": {
    "hidden": true
   },
   "outputs": [
    {
     "name": "stdout",
     "output_type": "stream",
     "text": [
      "[('zinc oxide', 150),\n",
      " ('octocrylene', 117),\n",
      " ('octisalate', 115),\n",
      " ('avobenzone', 114),\n",
      " ('homosalate', 108),\n",
      " ('titanium dioxide', 60),\n",
      " ('oxybenzone', 16),\n",
      " ('octinoxate', 10),\n",
      " ('octyl salicylate', 4),\n",
      " ('homosolate', 2),\n",
      " ('to deliver zinc oxide', 1),\n",
      " ('ecamsule', 1),\n",
      " ('uncoated zinc oxide', 1),\n",
      " ('octorcylene', 1),\n",
      " ('sunscreen', 1),\n",
      " ('ensulizole', 1)]\n"
     ]
    }
   ],
   "source": [
    "pprint(all_active_ctr.most_common())"
   ]
  },
  {
   "cell_type": "code",
   "execution_count": 249,
   "id": "3612f627",
   "metadata": {
    "hidden": true
   },
   "outputs": [
    {
     "name": "stdout",
     "output_type": "stream",
     "text": [
      "[('lonicera japonica extract', 1),\n",
      " ('populus tremuloides bark extract', 1),\n",
      " ('theobroma cacao butter)', 1),\n",
      " ('lavandula angustifolia flower/leaf/stem extract nasturtium', 1),\n",
      " ('officinale flower/leaf extract', 1),\n",
      " ('ceramide 3', 1),\n",
      " ('myristyl alcohol', 1),\n",
      " ('glycol stearate', 1),\n",
      " ('potassium stearate', 1),\n",
      " ('stearamide amp', 1)]\n"
     ]
    }
   ],
   "source": [
    "pprint(all_inactive_ctr.most_common()[-10:])"
   ]
  },
  {
   "cell_type": "code",
   "execution_count": 251,
   "id": "34c9a650",
   "metadata": {
    "hidden": true
   },
   "outputs": [
    {
     "name": "stdout",
     "output_type": "stream",
     "text": [
      "- zingiber officinale root extract\n",
      "- zinc oxide\n",
      "- zinc gluconate\n",
      "- zemea propanediol\n",
      "- yellow 6 lake {ci 15985}\n",
      "- yellow 5 lake {ci 19140}\n",
      "- yellow 5\n",
      "- yellow 11\n",
      "- yellow 10 lake {ci 47005}\n",
      "- xanthan gum plant-derived scent constituent\n",
      "- xanthan gum as the sodium salt\n",
      "- xanthan gum\n",
      "- water/aqua/eau\n",
      "- water vitamin e\n",
      "- water organic\n",
      "- water c12-15 alkyl benzoate\n",
      "- water / eau\n",
      "- water\n",
      "- vp/hexadecene copolymer\n",
      "- vp/eicosene copolymer\n",
      "- vp/acrylates/lauryl methacrylate copolymer\n",
      "- vp hexadecene copolymer\n",
      "- vitis vinifera seed oil\n",
      "- vitis vinifera seed extract\n",
      "- vitis vinifera fruit extract\n",
      "- vitis vinifera\n",
      "- vitamin e\n",
      "- violet 2\n",
      "- vinyl dimethicone/ methicone silsesquioxane crosspolymer\n",
      "- vegan beeswax\n",
      "- vanillin plant-derived scent constituent\n",
      "- vanillin\n",
      "- vanilla planifolia fruit extract\n",
      "- vaccinium macrocarpon seed oil\n",
      "- vaccinium angustifolium fruit extract\n",
      "- va/butyl maleate/lsobornyl acrylate copolymer\n",
      "- va/butyl maleate/isobornyl acrylate copolymer\n",
      "- undecylenoyl glycine\n",
      "- undecane\n",
      "- ulmus davidiana root extract\n",
      "- tropolone\n",
      "- trolamine\n",
      "- trisodium ethylenediamine disuccinate\n",
      "- trisiloxane\n",
      "- trimethylsiloxysilicate\n",
      "- trimethylpentanediol/adipic acid/glycerin crosspolymer\n",
      "- trilaureth-4 phosphate\n",
      "- triglyceride\n",
      "- triethylhexanoin\n",
      "- triethyl citrate\n"
     ]
    }
   ],
   "source": [
    "#x = sorted(all_inactive_set, key=len, reverse=False)\n",
    "# x = sorted(all_inactive_set, reverse=True)\n",
    "# for g in x:\n",
    "#     if 'eau' in g:\n",
    "#         print(f'- {g}')\n",
    "print('- '+'\\n- '.join(x[0:50]))"
   ]
  },
  {
   "cell_type": "code",
   "execution_count": 181,
   "id": "b8e6c898",
   "metadata": {
    "hidden": true
   },
   "outputs": [
    {
     "name": "stdout",
     "output_type": "stream",
     "text": [
      "Duplicate products\n",
      "\t- (2) : CeraVe Ultra-Light Face Moisturizer with Sunscreen - SPF 30 – 1.7oz\n",
      "\t- (2) : CeraVe AM Facial Moisturizing Lotion with Sunscreen - SPF 30\n",
      "\t- (2) : CeraVe Hydrating Mineral Face Sunscreen Lotion with Zinc Oxide – SPF 50 – 2.5oz\n",
      "\t- (2) : CeraVe Hydrating Mineral Face Sunscreen Lotion with Zinc Oxide – SPF 30 - 2.5oz\n",
      "\t- (2) : Pipette Mineral Sunscreen Broad Spectrum SPF 50 - 4 fl oz\n",
      "\t- (2) : Raw Elements Tinted Daily Face Mineral Sunscreen Aluminum Tube - SPF 30 - 1.8 fl oz\n",
      "\t- (2) : La Roche-Posay Anthelios Clear Skin Dry Touch Face Sunscreen for Acne Prone Skin - SPF 60 - 1.7oz\n",
      "\t Different URLs\n",
      "\t  {'/p/la-roche-posay-anthelios-clear-skin-dry-touch-face-sunscreen-for-acne-prone-skin-spf-60-1-7oz/-/A-75571510#lnk=sametab', '/p/la-roche-posay-anthelios-clear-skin-dry-touch-face-sunscreen-for-acne-prone-skin-spf-60-1-7oz/-/A-49124120#lnk=sametab'} \n",
      "\t- (2) : Vichy LiftActiv Peptide-C Anti-Aging Face Sunscreen Moisturizer with Vitamin C - SPF 30 - 1.69 fl oz\n",
      "\t- (2) : Raw Elements Tinted Mineral Sunscreen Face Stick - SPF 30 - 0.6oz\n",
      "\t- (2) : Olay Regenerist Micro-Sculpting Cream Moisturizer with Sunscreen Broad Spectrum SPF 30 - 1.7 fl oz\n",
      "\t- (2) : Bare Republic Sunscreen Baby Soft Stick - SPF 50 - 0.9oz\n",
      "\t- (2) : Olay Regenerist Mineral Sunscreen Hydrating Moisturizer - SPF 15 - 1.7 fl oz\n",
      "\t- (2) : Bare Republic Mineral Face Gel Sunscreen Lotion - SPF 30 - 1.7 fl oz\n",
      "\t- (2) : Neutrogena Ultra Sheer Sunscreen Spray - SPF 70 - 5oz\n",
      "\t Different URLs\n",
      "\t  {'/p/neutrogena-ultra-sheer-sunscreen-spray-spf-70-5oz/-/A-80839018#lnk=sametab', '/p/neutrogena-ultra-sheer-sunscreen-spray-spf-70-5oz/-/A-82040184#lnk=sametab'} \n",
      "\t- (2) : DERMA E Sun Defense Mineral Body Sunscreen - SPF 30 - 4oz\n",
      "15 duplicate titles\n"
     ]
    }
   ],
   "source": [
    "print('Duplicate products')\n",
    "c = 0\n",
    "for title, count in Counter(all_titles).items():\n",
    "    if count > 1:\n",
    "        c += 1\n",
    "        urls = set([p.url for p in all_products if p.title == title])\n",
    "        print(f'\\t- ({count}) : {title}')\n",
    "        if len(urls) > 1:\n",
    "            print(f'\\t Different URLs')\n",
    "            print(f'\\t  {urls} ')\n",
    "print(f'{c} duplicate titles')\n",
    "\n",
    "# print()\n",
    "# c = 0\n",
    "# for url, count in Counter(all_urls).items():\n",
    "#     if count > 1:\n",
    "#         c += 1\n",
    "#         title = all_titles[all_urls.index(url)]\n",
    "#         print(f'\\t- ({count}) : {url}')\n",
    "#         #print(f'\\t  {title} ')\n",
    "# print(f'{c} duplicate URLs')"
   ]
  },
  {
   "cell_type": "code",
   "execution_count": 187,
   "id": "71e7809c",
   "metadata": {
    "hidden": true
   },
   "outputs": [
    {
     "name": "stdout",
     "output_type": "stream",
     "text": [
      "27\n"
     ]
    },
    {
     "data": {
      "text/plain": [
       "[['Continuous Sport Sunscreen Spray', 'up & up™'],\n",
       " ['Coppertone Sport Sunscreen Spray'],\n",
       " ['Sun Bum Original Sunscreen Spray', '6 oz'],\n",
       " ['Sun Bum Original Sunscreen Lotion'],\n",
       " ['Sport Sunscreen Lotion', '10.4 fl oz', 'up & up™'],\n",
       " ['Banana Boat Ultra Sport Clear Sunscreen Spray'],\n",
       " ['Neutrogena Ultra Sheer Dry-Touch Sunscreen Lotion'],\n",
       " ['Coppertone Sport Sunscreen Lotion', '7 fl oz'],\n",
       " ['Neutrogena Clear Face Liquid Sunscreen Lotion', '3 fl oz'],\n",
       " ['Banana Boat Ultra Sport Sunscreen Lotion', '8 fl oz'],\n",
       " ['Neutrogena Beach Defense Sunscreen Spray', '6.5 oz'],\n",
       " ['Sun Bum Face Lotion', '3 fl oz'],\n",
       " ['Babyganics Sun & Bug Duo Set'],\n",
       " ['bliss Block Star Invisible Daily Sunscreen', '1.4 fl oz'],\n",
       " ['Sun Bum Mineral Spray Sunscreen', '6 oz'],\n",
       " ['Sun Bum Summer of Love Sunscreen Spray', '6oz'],\n",
       " ['Sun Bum Summer of Love Sunscreen Lotion', '6 fl oz'],\n",
       " ['Neutrogena Invisible Daily Defense Sunscreen Lotion', '3 fl oz'],\n",
       " ['Sun Bum Mineral Sunscreen Lotion', '3 fl oz'],\n",
       " ['Mineral Sunscreen Lotion', 'up & up™'],\n",
       " ['Mineral Sunscreen Spray', 'up & up™'],\n",
       " ['Australian Gold Plant Based Sunscreen Lotion', '6 fl oz'],\n",
       " ['Australian Gold Botanical Mineral Sunscreen Lotion', '5 fl oz'],\n",
       " ['Coppertone Sport Clear Sunscreen Lotion', '5 fl oz'],\n",
       " ['Australian Gold Sunscreen Spray Gel with Instant Bronzer', '8 fl oz'],\n",
       " ['Australian Gold Sunscreen Continuous Spray', '6 oz'],\n",
       " ['Neutrogena Hydro Boost Gel Moisturizing Sunscreen Lotion', '3 fl oz']]"
      ]
     },
     "execution_count": 187,
     "metadata": {},
     "output_type": "execute_result"
    }
   ],
   "source": [
    "tmp = [p.split(' - ') for p in all_titles if \"SPF\" not in p]\n",
    "print(len(tmp))\n",
    "tmp"
   ]
  },
  {
   "cell_type": "code",
   "execution_count": 245,
   "id": "f1e7c796",
   "metadata": {
    "hidden": true
   },
   "outputs": [
    {
     "data": {
      "text/plain": [
       "50"
      ]
     },
     "execution_count": 245,
     "metadata": {},
     "output_type": "execute_result"
    }
   ],
   "source": [
    "len(known_brands)"
   ]
  },
  {
   "cell_type": "code",
   "execution_count": 188,
   "id": "68e961e7",
   "metadata": {
    "hidden": true
   },
   "outputs": [
    {
     "name": "stdout",
     "output_type": "stream",
     "text": [
      "1\n"
     ]
    },
    {
     "data": {
      "text/plain": [
       "['01 : MELE Dew The Most Sheer Facial Moisturizer with SPF 30 Sunscreen for Melanin Rich Skin - 1 fl oz']"
      ]
     },
     "execution_count": 188,
     "metadata": {},
     "output_type": "execute_result"
    }
   ],
   "source": [
    "common_prefixes = []\n",
    "prefix = ''\n",
    "count = 0\n",
    "known_brands = [\n",
    "    'up & up™', \n",
    "    'Goddess Garden', \n",
    "    'Alba Botanica', \n",
    "    'All Good', \n",
    "    'CeraVe', \n",
    "    'Hawaiian Tropic', \n",
    "    'Raw Elements', \n",
    "    'Babo Botanicals', \n",
    "    'Blue Lizard', \n",
    "    'Australian Gold', \n",
    "    'Babyganics', \n",
    "    'La Roche-Posay', \n",
    "    'Olay', \n",
    "    'Aveeno', \n",
    "    'Bare Republic', \n",
    "    'Sun Bum', 'Baby Bum',\n",
    "    'Thinksport', 'Thinkbaby', \n",
    "    'Neutrogena', \n",
    "    'Coppertone', \n",
    "    'Banana Boat',\n",
    "    'DERMA E',\n",
    "    'Coola',\n",
    "    'Pacifica',\n",
    "    'Mustela',\n",
    "    'Cetaphil Sheer Mineral',\n",
    "    'Vichy',\n",
    "    'Project Sunscreen',\n",
    "    \"C'est Moi\",\n",
    "    'Black Girl Sunscreen',\n",
    "    'Babo',\n",
    "    'Sukin Suncare',\n",
    "    'No7',\n",
    "    'Garnier',\n",
    "    'COOLA',\n",
    "    'Badger',\n",
    "    'Pipette',\n",
    "    'Everyday Humans',\n",
    "    'Dove',\n",
    "    'bliss',\n",
    "    'Unsun Cosmetics',\n",
    "    'SheaMoisture',\n",
    "    \"Uncle Bud's\",\n",
    "    \"Two Peas Organics\",\n",
    "    'SLMD Skincare',\n",
    "    'RoC',\n",
    "    'Mele',\n",
    "    'Differin',\n",
    "    'Bravo Sierra',\n",
    "]\n",
    "for title in sorted(set(all_titles)):\n",
    "    if any(b in title for b in known_brands):\n",
    "        continue\n",
    "    if not prefix:\n",
    "        prefix = title\n",
    "    tmp_prefix = os.path.commonprefix([prefix, title])\n",
    "    if len(tmp_prefix) < 4: # and not tmp_prefix[-1] == ' ':\n",
    "        common_prefixes.append(f'{count:0>2} : {prefix.strip()}')\n",
    "        prefix = title\n",
    "        count = 1\n",
    "    else:\n",
    "        count += 1\n",
    "        prefix = tmp_prefix\n",
    "print(len(common_prefixes))\n",
    "sorted(common_prefixes, reverse=True)"
   ]
  },
  {
   "cell_type": "code",
   "execution_count": 189,
   "id": "2fe6ffbf",
   "metadata": {
    "hidden": true
   },
   "outputs": [
    {
     "name": "stdout",
     "output_type": "stream",
     "text": [
      "1\n"
     ]
    },
    {
     "data": {
      "text/plain": [
       "['Adult Sport Sunscreen Stick - SPF 55 - up & up™']"
      ]
     },
     "execution_count": 189,
     "metadata": {},
     "output_type": "execute_result"
    }
   ],
   "source": [
    "tmp = [p for p in all_titles if p.startswith(\"Adult Sport Sunscreen Stick\")]\n",
    "print(len(tmp))\n",
    "tmp"
   ]
  },
  {
   "cell_type": "code",
   "execution_count": 190,
   "id": "1ed558d3",
   "metadata": {
    "hidden": true
   },
   "outputs": [],
   "source": [
    "prod_by_brand = defaultdict(list)\n",
    "for title in all_titles:\n",
    "    flag = True\n",
    "    for brand in known_brands:\n",
    "        if brand in title:\n",
    "            flag = False\n",
    "            prod_by_brand[brand].append(title)\n",
    "    if flag:\n",
    "        prod_by_brand['No Brand'].append(title)"
   ]
  },
  {
   "cell_type": "code",
   "execution_count": 191,
   "id": "32d92d4f",
   "metadata": {
    "hidden": true
   },
   "outputs": [
    {
     "name": "stdout",
     "output_type": "stream",
     "text": [
      "--------------------------------------------------------------------------------\n",
      " 1) Bravo Sierra........... (1 products)\n",
      "\t- Bravo Sierra Face Sunscreen SPF 30 - 3 fl oz\n",
      "--------------------------------------------------------------------------------\n",
      " 2) Differin............... (1 products)\n",
      "\t- Differin Oil Absorbing Moisturizer with Sunscreen, Broad-Spectrum UVA/UVB SPF 30 - 4oz\n",
      "--------------------------------------------------------------------------------\n",
      " 3) Dove................... (1 products)\n",
      "\t- Dove Men+Care Hydrate + SPF 15 Sunscreen Face Lotion - 1.69oz\n",
      "--------------------------------------------------------------------------------\n",
      " 4) Everyday Humans........ (1 products)\n",
      "\t- Everyday Humans Resting Beach Face Sunscreen Serum - SPF 30\n",
      "--------------------------------------------------------------------------------\n",
      " 5) Mele................... (1 products)\n",
      "\t- Mele No Shade Sunscreen Oil Broad Spectrum for Melanin Rich Skin - SPF 30 - 1 fl oz\n",
      "--------------------------------------------------------------------------------\n",
      " 6) RoC.................... (1 products)\n",
      "\t- RoC Multi Correxion 5 In 1 Daily Moisturizer with Sunscreen - SPF 30 - 1.7 fl oz\n",
      "--------------------------------------------------------------------------------\n",
      " 7) SLMD Skincare.......... (1 products)\n",
      "\t- SLMD Skincare UV Bounce SPF 30 – 0.21oz\n",
      "--------------------------------------------------------------------------------\n",
      " 8) SheaMoisture........... (1 products)\n",
      "\t- SheaMoisture Vitamin E & Jojoba Oil Mineral Sunscreen - SPF 35 - 6 fl oz\n",
      "--------------------------------------------------------------------------------\n",
      " 9) Two Peas Organics...... (1 products)\n",
      "\t- Two Peas Organics Mineral Sunscreens - SPF 30 - 3 fl oz\n",
      "--------------------------------------------------------------------------------\n",
      "10) Uncle Bud's............ (1 products)\n",
      "\t- Uncle Bud's Hemp Sunscreen Lotion - SPF 50 - 6oz\n",
      "--------------------------------------------------------------------------------\n",
      "11) Unsun Cosmetics........ (1 products)\n",
      "\t- Unsun Cosmetics Sunscreens - SPF 15 - 3 fl oz\n",
      "--------------------------------------------------------------------------------\n",
      "12) bliss.................. (1 products)\n",
      "\t- bliss Block Star Invisible Daily Sunscreen - 1.4 fl oz\n",
      "--------------------------------------------------------------------------------\n",
      "13) Badger................. (2 products)\n",
      "\t- Badger Sport Mineral Sunscreen Face Stick - SPF 35 - 0.65oz\n",
      "\t- Badger Sport Mineral Sunscreen Cream - SPF 40 - 2.9 fl oz\n",
      "--------------------------------------------------------------------------------\n",
      "14) COOLA.................. (2 products)\n",
      "\t- COOLA Classic Octinoxate Free Face Sunscreen - Cucumber - SPF 30 - 1.7 fl oz\n",
      "\t- COOLA Classic Face Sunscreen - Unscented - SPF 50 - 1.7 fl oz\n",
      "--------------------------------------------------------------------------------\n",
      "15) Garnier................ (2 products)\n",
      "\t- Garnier Green Labs Canna-B Pore Perfecting Serum Cream - SPF 30 - Unscented - 2.4 fl oz\n",
      "\t- Garnier Green Labs Hyalu-Melon Replumping Serum Cream - SPF 30 - 2.4 fl oz\n",
      "--------------------------------------------------------------------------------\n",
      "16) No Brand............... (2 products)\n",
      "\t- cocokind Daily Sunscreen - SPF 32 - 1.7oz\n",
      "\t- MELE Dew The Most Sheer Facial Moisturizer with SPF 30 Sunscreen for Melanin Rich Skin - 1 fl oz\n",
      "--------------------------------------------------------------------------------\n",
      "17) No7.................... (2 products)\n",
      "\t- No7 Protect and Perfect Intense Advanced Day Cream Sunscreen SPF 30 - 0.84oz\n",
      "\t- No7 Lift and Luminate Triple Action Day Cream Sunscreen SPF 30 - 0.84oz\n",
      "--------------------------------------------------------------------------------\n",
      "18) Pipette................ (2 products)\n",
      "\t- Pipette Mineral Sunscreen Broad Spectrum SPF 50 - 4 fl oz\n",
      "\t- Pipette Mineral Sunscreen Broad Spectrum SPF 50 - 4 fl oz\n",
      "--------------------------------------------------------------------------------\n",
      "19) Sukin Suncare.......... (2 products)\n",
      "\t- Sukin Suncare Untinted Sunscreen - SPF 30 - 2.03 fl oz\n",
      "\t- Sukin Suncare Tinted Sunscreen - SPF 30 - 2.03 fl oz\n",
      "--------------------------------------------------------------------------------\n",
      "20) Baby Bum............... (3 products)\n",
      "\t- Baby Bum Sunscreen Spray SPF 50 - 3 fl oz\n",
      "\t- Baby Bum Mineral Sunscreen Lotion SPF 50 - 3 fl oz\n",
      "\t- Baby Bum Mineral Sunscreen Tube, SPF 50 - 0.45oz\n",
      "--------------------------------------------------------------------------------\n",
      "21) Black Girl Sunscreen... (3 products)\n",
      "\t- Black Girl Sunscreen Broad Spectrum - SPF 30 - 3 fl oz\n",
      "\t- Black Girl Sunscreen Kids Broad Spectrum - SPF 50 - 3 fl oz\n",
      "\t- Black Girl Sunscreen Make It Matte Sunscreen - SPF 45 - 1.7 fl oz\n",
      "--------------------------------------------------------------------------------\n",
      "22) C'est Moi.............. (3 products)\n",
      "\t- C'est Moi Sunshine Mineral Body & Face SPF 45 Sunscreen - 3.4 fl oz\n",
      "\t- C'est Moi Gentle Mineral Sunscreen Lotion SPF 30 - 3.4 fl oz\n",
      "\t- C'est Moi Sunshine Mineral Face Sunscreen Stick with SPF 50 Water Resistant (80 minutes) - 0.57oz\n",
      "--------------------------------------------------------------------------------\n",
      "23) Project Sunscreen...... (3 products)\n",
      "\t- Project Sunscreen Aerial Beach Sunscreen - SPF 50 - 3oz\n",
      "\t- Project Sunscreen Tropical Palms Sunscreen - SPF 50 - 3oz\n",
      "\t- Project Sunscreen Twin Pack For All - SPF 50 - 6oz\n",
      "--------------------------------------------------------------------------------\n",
      "24) Thinkbaby.............. (3 products)\n",
      "\t- Thinkbaby Mineral Baby Sunscreen 3oz SPF 50\n",
      "\t- Thinkbaby Mineral Baby Sunscreen 3oz 2pk SPF 50\n",
      "\t- Thinkbaby Mineral Baby Sunscreen Stick, SPF 30 - 0.64oz\n",
      "--------------------------------------------------------------------------------\n",
      "25) Vichy.................. (3 products)\n",
      "\t- Vichy LiftActiv Peptide-C Anti-Aging Face Sunscreen Moisturizer with Vitamin C - SPF 30 - 1.69 fl oz\n",
      "\t- Vichy LiftActiv Peptide-C Anti-Aging Face Sunscreen Moisturizer with Vitamin C - SPF 30 - 1.69 fl oz\n",
      "\t- Vichy Aqualia Thermal UV Defense Daily Face Moisturizer with Sunscreen - SPF 30 - 1.69 fl oz\n",
      "--------------------------------------------------------------------------------\n",
      "26) Cetaphil Sheer Mineral. (4 products)\n",
      "\t- Cetaphil Sheer Mineral Sunscreen Stick - SPF 50 - 0.5oz\n",
      "\t- Cetaphil Sheer Mineral Sunscreen - SPF 50 - 3 fl oz\n",
      "\t- Cetaphil Sheer Mineral Sunscreens - SPF 30 - 3 fl oz\n",
      "\t- Cetaphil Sheer Mineral Face Liquid Drops - SPF 50 - 1.7 fl oz\n",
      "--------------------------------------------------------------------------------\n",
      "27) Mustela................ (4 products)\n",
      "\t- Mustela Fragrance Free Mineral Baby Sunscreen Lotion SPF 50 - 3.38 fl oz\n",
      "\t- Mustela Mineral Baby Sunscreen Spray - SPF 50 - 6 fl oz\n",
      "\t- Mustela Mineral-Based Baby Sunscreen Spray - SPF 30 - 6 fl oz\n",
      "\t- Mustela Mineral Baby Sunscreen Stick - SPF 50 - 0.6oz\n",
      "--------------------------------------------------------------------------------\n",
      "28) Pacifica............... (4 products)\n",
      "\t- Pacifica Bronzing Spray Mineral Sunscreen - SPF 30 - 6 fl oz\n",
      "\t- Pacifica Bronzing Body Butter Coconut - SPF 50 - 5 fl oz\n",
      "\t- Pacifica Sea & C Sheer Sunscreen - SPF 30 - 6 fl oz\n",
      "\t- Pacifica Sea & C Mineral Combo Body Milk - SPF 30 - 5 fl oz\n",
      "--------------------------------------------------------------------------------\n",
      "29) Coola.................. (5 products)\n",
      "\t- Coola Organic Classic Body Sunscreen Spray - SPF 30 - Tropical Coconut - 6.0oz\n",
      "\t- Coola Organic Classic Body Sunscreen Lotion - SPF 30 - Tropical Coconut - 5.0oz\n",
      "\t- Coola Classic Continuous Sunscreen Spray - Guava Mango - SPF 50 - 6 fl oz\n",
      "\t- Coola Organic Classic Sunscreen Face & Body Stick - SPF 30 -Tropical Coconut - 0.6 oz\n",
      "\t- Coola Classic Sunscreen Lotion - Guava Mango - SPF 50 - 5 fl oz\n",
      "--------------------------------------------------------------------------------\n",
      "30) Goddess Garden......... (5 products)\n",
      "\t- Goddess Garden Sport Natural Sunscreen Stick - SPF 50 - 0.6oz\n",
      "\t- Goddess Garden Baby Sunscreen Stick SPF 50 - .6oz\n",
      "\t- Goddess Garden Baby Sunscreen Lotion SPF 50 - 3.4oz\n",
      "\t- Goddess Garden Mineral Sunscreen Spray - SPF 30 - 3.4oz\n",
      "\t- Goddess Garden Kids Natural Sunscreen Tube - SPF 50 - 3.4oz\n",
      "--------------------------------------------------------------------------------\n",
      "31) Alba Botanica.......... (7 products)\n",
      "\t- Alba Botanica Fragrance Free Sunscreen Lotion - SPF 30 - 4oz\n",
      "\t- Alba Botanica Hawaiian Green Tea Sunscreen Lotion - SPF 45 - 4oz\n",
      "\t- Alba Botanica Sweet Pea Sheer Shield Sunscreen - SPF 45 - 3oz\n",
      "\t- Alba Botanica Emollient Sunscreen Sport Lotion - SPF 45 - 4oz\n",
      "\t- Alba Botanica Very Emollient Kids Sunscreen Lotion - SPF 45 - 4oz\n",
      "\t- Alba Botanica Very Emollient Active Kids Clear Sunscreen Spray - SPF 50 - 6oz\n",
      "\t- Alba Botanica Hawaiian Coconut Sunscreen Spray - SPF 50 - 6 fl oz\n",
      "--------------------------------------------------------------------------------\n",
      "32) DERMA E................ (7 products)\n",
      "\t- DERMA E All Sport Performance Sunscreen Spray - SPF 50 - 6 fl oz\n",
      "\t- DERMA E Sun Defense Mineral Oil-Free Face Sunscreen - SPF 30 - 2oz\n",
      "\t- DERMA E All Sport Performance Face Sunscreen - SPF 30 - 2oz\n",
      "\t- DERMA E Kids Active Sunscreen Spray - SPF 50 - 6 fl oz\n",
      "\t- DERMA E Sun Defense Mineral Body Sunscreen - SPF 30 - 4oz\n",
      "\t- DERMA E Sun Defense Mineral Body Sunscreen - SPF 30 - 4oz\n",
      "\t- DERMA E Ultra Sheer Mineral Body Sunscreen Mist - SPF 30 - 6 fl oz\n",
      "--------------------------------------------------------------------------------\n",
      "33) Thinksport............. (8 products)\n",
      "\t- Thinksport Mineral Sunscreen Lotion - SPF 50 - 6oz\n",
      "\t- Thinksport Kids Mineral Sunscreen Lotion - SPF 50 - 6oz\n",
      "\t- Thinksport Mineral Sunscreen Combo Pack Lotion and Stick - SPF 50 - 3 fl oz/SPF 30 - 0.64oz\n",
      "\t- Thinksport Mineral Sunscreen Stick - SPF 30 - 0.64oz\n",
      "\t- Thinksport Mineral Sunscreen EveryDay Face - SPF 30 - 2oz\n",
      "\t- Thinksport Mineral Sunscreen Lotion - SPF 50 - 3oz\n",
      "\t- Thinksport Mineral Kids Sunscreen Lotion - SPF 50 - 3oz\n",
      "\t- Thinksport Kids Mineral Sunscreen Stick - SPF 30 - 0.64oz\n",
      "--------------------------------------------------------------------------------\n",
      "34) All Good............... (9 products)\n",
      "\t- All Good Sport Sunscreen Lotion Water Resistant - SPF 30 - 3oz\n",
      "\t- All Good Sport Sunscreen Spray Water Resistant - SPF30 - 6oz\n",
      "\t- All Good Sport Sunscreen Butter Stick Water Resistant - SPF 50+ - 2oz\n",
      "\t- All Good Tinted Sunscreen Lotion - SPF 30 - 3 fl oz\n",
      "\t- All Good Kids Sunscreen Butter Stick Water Resistant - SPF 50+ - 2oz\n",
      "\t- All Good Kids Sunscreen Lotion Water Resistant - SPF 30 - 3oz\n",
      "\t- All Good Kids Sunscreen Spray Water Resistant - SPF 30 - 6oz\n",
      "\t- All Good Coconut Sunstick - SPF 30 - 0.6oz\n",
      "\t- All Good Zinc Sunscreen Butter - SPF 50+ - 1oz\n",
      "--------------------------------------------------------------------------------\n",
      "35) CeraVe................. (9 products)\n",
      "\t- CeraVe Ultra-Light Face Moisturizer with Sunscreen - SPF 30 – 1.7oz\n",
      "\t- CeraVe AM Facial Moisturizing Lotion with Sunscreen - SPF 30\n",
      "\t- CeraVe Hydrating Mineral Face Sunscreen Lotion with Zinc Oxide – SPF 50 – 2.5oz\n",
      "\t- CeraVe Hydrating Mineral Face Sunscreen Lotion with Zinc Oxide – SPF 30 - 2.5oz\n",
      "\t- CeraVe Ultra-Light Face Moisturizer with Sunscreen - SPF 30 – 1.7oz\n",
      "\t- CeraVe Hydrating Mineral Face Sunscreen Lotion with Zinc Oxide – SPF 30 - 2.5oz\n",
      "\t- CeraVe Hydrating Mineral Face Sunscreen Lotion with Zinc Oxide – SPF 50 – 2.5oz\n",
      "\t- CeraVe Hydrating Sunscreen Body Lotion - SPF 50 - 5 fl oz\n",
      "\t- CeraVe AM Facial Moisturizing Lotion with Sunscreen - SPF 30\n",
      "--------------------------------------------------------------------------------\n",
      "36) Hawaiian Tropic........ (9 products)\n",
      "\t- Hawaiian Tropic Sheer Touch Ultra Radiance Lotion Sunscreen - SPF 15 - 8oz\n",
      "\t- Hawaiian Tropic Silk Hydration Weightless Face Sunscreen - SPF 30 - 1.7oz\n",
      "\t- Hawaiian Tropic Silk Hydration Weightless Sunscreen Lotion - SPF 30 - 6oz\n",
      "\t- Hawaiian Tropic Mineral Sun Milk Body Lotion - SPF 50 - 3.4 fl oz\n",
      "\t- Hawaiian Tropic Mineral Sun Milk Body Lotion - SPF 30 - 3.4 fl oz\n",
      "\t- Hawaiian Tropic Mineral Sun Milk Tint Face - SPF 30 - 1.7 fl oz\n",
      "\t- Hawaiian Tropic Silk Hydration Dry Oil Mist - SPF 15 - 5 fl oz\n",
      "\t- Hawaiian Tropic Sheer Touch Ultra Radiance Lotion Sunscreen - SPF 30 - 8oz\n",
      "\t- Hawaiian Tropic Silk Hydration Weightless Sunscreen C-Spray - SPF 30 - 6oz\n",
      "--------------------------------------------------------------------------------\n",
      "37) Olay................... (9 products)\n",
      "\t- Olay Regenerist Micro-Sculpting Cream Moisturizer with Sunscreen Broad Spectrum SPF 30 - 1.7 fl oz\n",
      "\t- Olay Regenerist Mineral Sunscreen Hydrating Moisturizer - SPF 30 - 1.7 fl oz\n",
      "\t- Olay Regenerist Mineral Sunscreen Hydrating Moisturizer - SPF 15 - 1.7 fl oz\n",
      "\t- Olay Regenerist Mineral Sunscreen Hydrating Moisturizer - SPF 15 - 1.7 fl oz\n",
      "\t- Olay Regenerist Micro-Sculpting Cream Moisturizer with Sunscreen Broad Spectrum SPF 30 - 1.7 fl oz\n",
      "\t- Olay Age Defying Anti-Wrinkle Day Lotion with Sunscreen - SPF 15 - 3.4oz\n",
      "\t- Olay Total Effects Whip Active Moisturizer with Sunscreen - SPF 40 - 1.7 fl oz\n",
      "\t- Olay Regenerist Whip Active Moisturizer with Sunscreen - SPF 40 - 1.7 fl oz\n",
      "\t- Olay Complete All Day Moisture SPF Skin Cream\n",
      "--------------------------------------------------------------------------------\n",
      "38) Raw Elements........... (9 products)\n",
      "\t- Raw Elements Tinted Daily Face Mineral Sunscreen Aluminum Tube - SPF 30 - 1.8 fl oz\n",
      "\t- Raw Elements Tinted Mineral Sunscreen Face Stick - SPF 30 - 0.6oz\n",
      "\t- Raw Elements Tinted Mineral Sunscreen Face Stick - SPF 30 - 0.6oz\n",
      "\t- Raw Elements Mineral Sunscreen Face Stick - SPF 30 - 0.6oz\n",
      "\t- Raw Elements Face and Body Mineral Sunscreen Tin - SPF 30 - 3oz\n",
      "\t- Raw Elements Tinted Daily Face Mineral Sunscreen Aluminum Tube - SPF 30 - 1.8 fl oz\n",
      "\t- Raw Elements Face and Body Mineral Sunscreen Tube - SPF 30 - 3 fl oz\n",
      "\t- Raw Elements Baby + Kids Mineral Sunscreen Tin - SPF 30+ - 3oz\n",
      "\t- Raw Elements Daily Lifestyle Aluminum Mineral Sunscreen Tube - SPF 30+ - 1.8 fl oz\n",
      "--------------------------------------------------------------------------------\n",
      "39) Blue Lizard............ (11 products)\n",
      "\t- Blue Lizard Kids Mineral-Based Sunscreen Lotion - SPF 50 - 5 fl oz\n",
      "\t- Blue Lizard Active Mineral-Based Sunscreen Lotion - SPF 50 - 5 fl oz\n",
      "\t- Blue Lizard Sensitive Mineral Sunscreen Lotion - SPF 50+ - 5 fl oz\n",
      "\t- Blue Lizard Kids' Sunscreen Stick - Cookie Monster - SPF 50 - 0.5oz\n",
      "\t- Blue Lizard Sensitive Sunscreen  Lotion - SPF 30\n",
      "\t- Blue Lizard Sensitive Sunscreen Stick - SPF 50 - 0.5oz\n",
      "\t- Blue Lizard Baby Sunscreen Stick - Elmo - SPF 50 - 0.5oz\n",
      "\t- Blue Lizard Active Australian Sunscreen - SPF 30\n",
      "\t- Blue Lizard Kid's Australian Sunscreen - SPF 30\n",
      "\t- Blue Lizard Baby Sunscreen Lotion - SPF 30\n",
      "\t- Blue Lizard Sensitive Face Mineral Sunscreen - SPF 30+ - 1.7oz\n",
      "--------------------------------------------------------------------------------\n",
      "40) Sun Bum................ (11 products)\n",
      "\t- Sun Bum Original Sunscreen Spray - 6 oz\n",
      "\t- Sun Bum Original Sunscreen Lotion\n",
      "\t- Sun Bum Sunscreen Face Stick - SPF 30 - 0.45oz\n",
      "\t- Sun Bum Scalp and Hair Mist - SPF 30 - 2 fl oz\n",
      "\t- Sun Bum Face Lotion - 3 fl oz\n",
      "\t- Sun Bum Mineral Face Stick Sunscreen - SPF 50 - 0.45oz\n",
      "\t- Sun Bum Mineral Spray Sunscreen - 6 oz\n",
      "\t- Sun Bum Summer of Love Sunscreen Spray - 6oz\n",
      "\t- Sun Bum Summer of Love Sunscreen Lotion - 6 fl oz\n",
      "\t- Sun Bum Mineral Sunscreen Lotion - 3 fl oz\n",
      "\t- Sun Bum Hand Cream - SPF 15 - 2 fl oz\n",
      "--------------------------------------------------------------------------------\n",
      "41) Aveeno................. (12 products)\n",
      "\t- Aveeno Baby Continuous Protection Sensitive - Zinc Oxide with Broad Spectrum Skin Lotion Sunscreen - SPF 50 - 3 fl oz\n",
      "\t- Aveeno Baby Continuous Protection Zinc Oxide Mineral Sunscreen - SPF 50\n",
      "\t- Aveeno Baby Continuous Protection Sensitive Lotion - SPF 50 - 2ct/6 fl oz Total\n",
      "\t- Aveeno Protect & Hydrate Sunscreen Body Lotion - SPF 60 - 3 fl oz\n",
      "\t- Aveeno Protect + Hydrate Lotion - SPF 60 - 12oz\n",
      "\t- Aveeno Ultra-Calming Daily Moisturizer Sunscreen - SPF 15 - 4 fl oz\n",
      "\t- Aveeno Protect & Hydrate Sunscreen Face Lotion - SPF 60 - 2 fl oz\n",
      "\t- Aveeno Protect + Hydrate Lotion - SPF 30 - 3oz\n",
      "\t- Aveeno Positively Mineral Sensitive Skin Sunscreen - SPF 50 - 2 fl oz\n",
      "\t- Aveeno Baby Continuous Protect Sunscreen with SPF 50 - 3.5 fl oz\n",
      "\t- Aveeno Mineral Sensitive Skin Sunscreen - SPF 50 - 3oz\n",
      "\t- Aveeno Kids Continuous Protection Zinc Oxide Mineral Sunscreen - SPF 50 - 3 fl oz\n",
      "--------------------------------------------------------------------------------\n",
      "42) Babo Botanicals........ (12 products)\n",
      "\t- Babo Botanicals Sheer Mineral Sensitive Sunscreen Spray - SPF 50 - 6 fl oz\n",
      "\t- Babo Botanicals Baby Skin Mineral Sunscreen Lotion - SPF 50 - 3floz\n",
      "\t- Babo Botanicals Super Shield Sport Sunscreen Stick Fragrance - SPF 50 - 0.6oz\n",
      "\t- Babo Botanicals Baby Face Mineral Sunscreen Stick - SPF 50 - 0.6oz\n",
      "\t- Babo Botanicals Sheer Mineral Sensitive Gentle Sunscreen Lotion - SPF 50 - 3 fl oz\n",
      "\t- Babo Botanicals Natural Glow Daily Sheer Tinted Sunscreen - SPF 30 - 1.7 fl oz\n",
      "\t- Babo Botanicals Tinted Face Mineral Sunscreen Stick - SPF 50 - 0.6oz\n",
      "\t- Babo Botanicals Baby Skin Mineral Non-Aerosol Sunscreen Pump Spray SPF 30 - 6 fl oz\n",
      "\t- Babo Botanicals Clear Zinc Sport Stick - SPF 30 - .6oz\n",
      "\t- Babo Botanicals Clear for Babies Fragrance Free Zinc Sunscreen Lotion - SPF 30 - 3 fl oz\n",
      "\t- Babo Botanicals Sheer Zinc Sunscreen Spray Fragrance - SPF 30 - 6.0oz\n",
      "\t- Babo Botanicals Lip Tint Conditioner - Wild Rose - SPF 15 - 0.15oz\n",
      "--------------------------------------------------------------------------------\n",
      "43) Australian Gold........ (14 products)\n",
      "\t- Australian Gold Botanical Tinted Face Sunscreen Lotion - Fair - SPF 50 - 3 fl oz\n",
      "\t- Australian Gold Plant Based Sunscreen Face Lotion - SPF 50 - 3 fl oz\n",
      "\t- Australian Gold Soothing Aloe Sunscreen Spray Gel - SPF 15\n",
      "\t- Australian Gold Plant Based Sunscreen Lotion - 6 fl oz\n",
      "\t- Australian Gold Botanical Mineral Sunscreen Lotion - 5 fl oz\n",
      "\t- Australian Gold Little Joey Kids Sunscreen Lotion - SPF 50 - 8 fl oz\n",
      "\t- Australian Gold Sunscreen Lotion - SPF 30 - 8 fl oz\n",
      "\t- Australian Gold Botanical Tinted Face Sunscreen Lotion - Rich To Deep - SPF 50 -3 fl oz\n",
      "\t- Australian Gold Sunscreen Lotion - SPF 50 - 8 fl oz\n",
      "\t- Australian Gold Sunscreen Spray Gel - SPF 15 - 8 fl oz\n",
      "\t- Australian Gold Sunscreen Spray Gel - SPF 30 - 8 fl oz\n",
      "\t- Australian Gold Sunscreen Spray Gel with Instant Bronzer - 8 fl oz\n",
      "\t- Australian Gold Sunscreen Continuous Spray - 6 oz\n",
      "\t- Australian Gold Face Guard - SPF 50 - .5oz\n",
      "--------------------------------------------------------------------------------\n",
      "44) Babo................... (15 products)\n",
      "\t- Babo Botanicals Sheer Mineral Sensitive Sunscreen Spray - SPF 50 - 6 fl oz\n",
      "\t- Babo Botanicals Baby Skin Mineral Sunscreen Lotion - SPF 50 - 3floz\n",
      "\t- Babo Botanicals Super Shield Sport Sunscreen Stick Fragrance - SPF 50 - 0.6oz\n",
      "\t- Babo Botanicals Baby Face Mineral Sunscreen Stick - SPF 50 - 0.6oz\n",
      "\t- Babo Lip Tint Conditioner Plum Rose - SPF 15 - .15oz\n",
      "\t- Babo Botanicals Sheer Mineral Sensitive Gentle Sunscreen Lotion - SPF 50 - 3 fl oz\n",
      "\t- Babo Botanicals Natural Glow Daily Sheer Tinted Sunscreen - SPF 30 - 1.7 fl oz\n",
      "\t- Babo Botanicals Tinted Face Mineral Sunscreen Stick - SPF 50 - 0.6oz\n",
      "\t- Babo Botanicals Baby Skin Mineral Non-Aerosol Sunscreen Pump Spray SPF 30 - 6 fl oz\n",
      "\t- Babo Bototanicals Lip Tint Conditioner - Beach Rose - SPF 15 - .15oz\n",
      "\t- Babo Botanicals Clear Zinc Sport Stick - SPF 30 - .6oz\n",
      "\t- Babo Botanicals Clear for Babies Fragrance Free Zinc Sunscreen Lotion - SPF 30 - 3 fl oz\n",
      "\t- Babo Botanicals Sheer Zinc Sunscreen Spray Fragrance - SPF 30 - 6.0oz\n",
      "\t- Babo SPF 15 Lip Tint Conditioner - Crimson Rose - .15oz\n",
      "\t- Babo Botanicals Lip Tint Conditioner - Wild Rose - SPF 15 - 0.15oz\n",
      "--------------------------------------------------------------------------------\n",
      "45) Babyganics............. (16 products)\n",
      "\t- Babyganics Mineral-Based Baby Sunscreen Lotion, SPF 50 - 6 fl oz\n",
      "\t- Babyganics Mineral-Based Baby Sunscreen Spray SPF 50 - 6 fl oz\n",
      "\t- Babyganics Sun & Bug Duo Set\n",
      "\t- Babyganics Sunscreen Lotion Broad Spectrum Protection - SPF 50 - 8 fl oz\n",
      "\t- Babyganics Kid's Sunscreen Continuous Spray - SPF 50 - 6oz\n",
      "\t- Babyganics BKids Sunscreen - SPF 50 - 6 fl oz\n",
      "\t- Babyganics Pure Mineral Baby Sunscreen Stick, SPF 50 - 0.47oz\n",
      "\t- Babyganics Mineral Sunscreen Stick - SPF 50 - 2ct\n",
      "\t- Babyganics Kids' Sunscreen Lotion with SPF 50 - 2 fl oz\n",
      "\t- Babyganics Sunscreen & Insect Repellant with SPF 50 - 4 fl oz/2pk\n",
      "\t- Babyganics Sunscreen Lotion with SPF 50 - 4 fl oz/2pk\n",
      "\t- Babyganics Sunscreen Lotion - SPF 50 - 2 fl oz\n",
      "\t- Babyganics Kids Sunscreen Stick - SPF 50 - 2pk/3.2 fl oz\n",
      "\t- Babyganics Kids Continuous Sunscreen Spray  - SPF 50 - 2ct/6 fl oz\n",
      "\t- Babyganics Sunscreen Spray - SPF 50 - 2ct/6 fl oz\n",
      "\t- Babyganics Sunscreen Lotion - SPF 50 - 2ct/6 fl oz\n",
      "--------------------------------------------------------------------------------\n",
      "46) Bare Republic.......... (16 products)\n",
      "\t- Bare Republic Mineral Sunscreen Vanilla Coco Spray SPF 50 - 6.0 fl oz\n",
      "\t- Bare Republic Mineral Face Sunscreen Lotion - SPF 30 - 1.7 fl oz\n",
      "\t- Bare Republic Coco Mango Mineral Spray - SPF 30 - 6 fl oz\n",
      "\t- Bare Republic Mineral Sunscreen Vanilla Coco Lotion - SPF 50 - 5.0 fl oz\n",
      "\t- Bare Republic Sunscreen Baby Soft Stick - SPF 50 - 0.9oz\n",
      "\t- Bare Republic Mineral Sport Sunscreen Stick - SPF 50 - 0.5oz\n",
      "\t- Bare Republic Mineral Body Gel Sunscreen Lotion - SPF 30 - 4 fl oz\n",
      "\t- Bare Republic Mineral Face Gel Sunscreen Lotion - SPF 30 - 1.7 fl oz\n",
      "\t- Bare Republic Mineral Face Gel Sunscreen Lotion - SPF 30 - 1.7 fl oz\n",
      "\t- Bare Republic Sunscreen Baby Soft Stick - SPF 50 - 0.9oz\n",
      "\t- Bare Republic Sunscreen Baby Lotion - SPF 50 - 3.4 fl oz\n",
      "\t- Bare Republic Mineral Face Sunscreen - SPF 70 - 2 fl oz\n",
      "\t- Bare Republic Neon Sunset Sunscreen Stick Set - SPF 50 - 3ct/0.9oz\n",
      "\t- Bare Republic Neon Sunscreen Stick Golbin Green - SPF 50 - 0.3oz\n",
      "\t- Bare Republic Mineral Sunscreen Neon Stick Atomic Orange - SPF 50 -  0.3oz\n",
      "\t- Bare Republic Mineral Sunscreen Stick Lightening Yellow - SPF 50 - 0.3oz\n",
      "--------------------------------------------------------------------------------\n",
      "47) La Roche-Posay......... (18 products)\n",
      "\t- La Roche-Posay Anthelios Ultra-Light Fluid Oxybenzone-Free Face Sunscreen – SPF 60 – 1.7 fl oz\n",
      "\t- La Roche-Posay Anthelios Clear Skin Dry Touch Face Sunscreen for Acne Prone Skin - SPF 60 - 1.7oz\n",
      "\t- La Roche-Posay Anthelios Melt-In-Milk Body and Face Sunscreen Lotion – SPF 60 - 5 oz\n",
      "\t- La Roche-Posay Anthelios Ultra-Light Fluid Tinted Mineral Face Sunscreen with Titanium Dioxide – SPF 50 - 1.7 fl oz\n",
      "\t- La Roche-Posay Anthelios AOX Daily Antioxidant Face Serum with Sunscreen – SPF 50 - 1 fl oz\n",
      "\t- La Roche-Posay Anthelios Cooling Water-Lotion Face and Body Sunscreen SPF 60 - 5.0 fl oz\n",
      "\t- La Roche-Posay Anthelios Ultra-Light Fluid Mineral Face Sunscreen with Zinc Oxide – SPF 50 - 1.7 fl oz\n",
      "\t- La Roche-Posay Anthelios Mineral Sunscreen Body and Face Sunscreen Lotion - SPF 50 - 4.0 fl oz\n",
      "\t- La Roche-Posay Anthelios HA Sunscreen - SPF 30 - 1.7 fl oz\n",
      "\t- La Roche-Posay Anthelios Clear Skin Dry Touch Face Sunscreen for Acne Prone Skin - SPF 60 - 1.7oz\n",
      "\t- La Roche-Posay Anthelios Anti-Aging Daily Face Primer with Sunscreen SPF 50 - 1.35oz\n",
      "\t- La Roche-Posay Anthelios Body and Face Soft Finish Mineral Sunscreen Lotion - SPF 50 - 3.04 fl oz\n",
      "\t- La Roche-Posay Anthelios Cooling Water-Lotion Face and Body Sunscreen SPF 30 - 5.0oz\n",
      "\t- La Roche-Posay Anthelios Melt In Milk Lotion Face and Body Sunscreen - SPF 60 - 3oz\n",
      "\t- La Roche-Posay Anthelios SX Daily Face Moisturizer with Sunscreen and Mexoryl – SPF 15 – 3.4 oz\n",
      "\t- La Roche-Posay Anthelios Melt in Milk Sunscreen Lotion - SPF 100 - 3.0 fl oz\n",
      "\t- La Roche-Posay Anthelios Tinted Mineral Face Primer with Sunscreen - SPF 50 - 1.35 fl oz\n",
      "\t- La Roche-Posay Toleriane Double Repair UV Face Moisturizer with Sunscreen and Niacinamide – SPF 30 – 2.5oz\n",
      "--------------------------------------------------------------------------------\n",
      "48) up & up™............... (19 products)\n",
      "\t- Continuous Sport Sunscreen Spray - up & up™\n",
      "\t- Sport Sunscreen Spray - SPF 50 - 2pk/11oz - up & up™\n",
      "\t- Sport Sunscreen Lotion - 10.4 fl oz - up & up™\n",
      "\t- Kids Sunscreen Spray - SPF 50 - up & up™\n",
      "\t- Sport Sunscreen Spray Twin Pack - SPF 30 - 14.6oz - up & up™\n",
      "\t- Kid's Sport Sunscreen Stick - SPF 55 - 0.5oz/2pk - up & up™\n",
      "\t- Sport Lotion Twin Pack - SPF 50 - 20.8 fl oz - up & up™\n",
      "\t- Kids' Deo Shaped Sport Sunscreen Stick - SPF 55 - 2pk/0.5oz each - up & up™\n",
      "\t- Kids Sunscreen Spray Twin Pack - SPF 50 - 14.6oz - up & up™\n",
      "\t- Sport Sunscreen Spray Twin Pack - SPF 50 - 7.3oz each - up & up™\n",
      "\t- Morning Facial Moisturizing Lotion with Sunscreen SPF 30 - 3 fl oz - up & up™\n",
      "\t- Adult Sport Sunscreen Stick - SPF 55 - up & up™\n",
      "\t- Mineral Sunscreen Lotion - SPF 50 - 10.4oz - up & up™\n",
      "\t- Mineral Sunscreen Lotion - up & up™\n",
      "\t- Mineral Sunscreen Spray - up & up™\n",
      "\t- Sport Sunscreen Lotion - SPF 30 - 3oz - up & up™\n",
      "\t- Kids Sunscreen Lotion - SPF 50 - 10.4 fl oz - up & up™\n",
      "\t- Sport Sunscreen Spray - SPF 30 - 2.2oz - up & up™\n",
      "\t- Sport Spray SPF 30 - 5.5oz - up & up™\n",
      "--------------------------------------------------------------------------------\n",
      "49) Banana Boat............ (20 products)\n",
      "\t- Banana Boat Ultra Sport Clear Sunscreen Spray\n",
      "\t- Banana Boat Ultra Sport Sunscreen Lotion - 8 fl oz\n",
      "\t- Banana Boat Kids Max Protect & Play Sunscreen C-Spray - SPF 100 - 6oz\n",
      "\t- Banana Boat Kids Mineral Enriched Sunscreen Spray - SPF 50 - 9.5oz\n",
      "\t- Banana Boat Kids 100% Mineral Sunscreen Lotion - SPF 50 - 9oz\n",
      "\t- Banana Boat Kids Sport Sunscreen Spray - SPF 50+ - 9.5oz\n",
      "\t- Banana Boat Light As Air Sunscreen Spray - SPF 50 - 6oz\n",
      "\t- Banana Boat Sport 100% Mineral Sunscreen Lotion - SPF 50 - 9oz\n",
      "\t- Banana Boat Lip Twin Pack Sunscreen - SPF 40 - 0.3oz\n",
      "\t- Banana Boat Simply Protect Sensitive Face Sunscreen Lotion - SPF 50 - 3oz/2pk\n",
      "\t- Banana Boat Light As Air Sunscreen Lotion - SPF 50 - 6 fl oz\n",
      "\t- Banana Boat Kids Mineral Sunscreen Foam - SPF 50 - 4oz/2pk\n",
      "\t- Banana Boat Sport Mineral Enriched Sunscreen Spray - SPF 50 - 9.5oz\n",
      "\t- Banana Boat Kids Mineral Sunscreen Lotion - SPF 50 - 6 fl oz\n",
      "\t- Banana Boat Simply Protect Sensitive Sunscreen Lotion - SPF 50 - 6oz/2pk\n",
      "\t- Banana Boat Dry Oil Ultra Mist - SPF 8 - 6oz\n",
      "\t- Banana Boat Baby Mineral Enriched Sunscreen Spray - SPF 50 - 6oz\n",
      "\t- Banana Boat Sport Performance Sunscreen Lotion - SPF 30 - 3oz\n",
      "\t- Banana Boat Kids Mineral Enriched Sunscreen Spray - SPF 50 - 6oz\n",
      "\t- Banana Boat Kids Amazing Apple Mineral Foam - SPF 50 - 4oz\n",
      "--------------------------------------------------------------------------------\n",
      "50) Coppertone............. (21 products)\n",
      "\t- Coppertone Sport Sunscreen Spray\n",
      "\t- Coppertone Kids Sunscreen Spray - SPF 50 - 11oz - Twin Pack\n",
      "\t- Coppertone Pure & Simple Sunscreen Lotion - SPF 50 - 6 fl oz\n",
      "\t- Coppertone Pure and Simple Botanicals Faces Sunscreen Lotion- SPF 50 - 2oz\n",
      "\t- Coppertone Sport Sunscreen Lotion - 7 fl oz\n",
      "\t- Coppertone Kids Tear Free Mineral Sunscreen Lotion - SPF 50 - 8oz\n",
      "\t- Coppertone Pure & Simple Baby Mineral Sunscreen - SPF 50 - 6 fl oz\n",
      "\t- Coppertone Pure & Simple Kid's Sunscreen Spray - SPF 50 - 5oz\n",
      "\t- Coppertone Kids Pure and Simple Botanicals Sunscreen Lotion- SPF 50 - 6oz\n",
      "\t- Coppertone Sport Mineral Sunscreen Spray - SPF 50 - 5oz\n",
      "\t- Coppertone Sport Lotion - SPF 50 - 8.75 fl oz\n",
      "\t- Coppertone Pure & Simple Sunscreen Spray - SPF 50 - 5oz\n",
      "\t- Coppertone Sport Mineral Sunscreen Face Lotion - SPF 50 - 2.5 fl oz\n",
      "\t- Coppertone Pure & Simple Baby Sunscreen Spray - SPF 50 - 5oz\n",
      "\t- Coppertone Glow with Shimmer Sunscreen Lotion - SPF 30 - 5 fl oz\n",
      "\t- Coppertone Sport Clear Sunscreen Lotion - 5 fl oz\n",
      "\t- Coppertone Sport Sunscreen Lotion - SPF 50 - 3 fl oz\n",
      "\t- Coppertone Sport Mineral Sunscreen Lotion - SPF 50 - 5 fl oz\n",
      "\t- Coppertone Sport Spray - SPF 50 - 6.9oz\n",
      "\t- Coppertone Tanning Sunscreen Lotion - SPF 15 - 8oz\n",
      "\t- Coppertone Tanning Dry Oil Sunscreen Spray - SPF 15 - 6oz\n",
      "--------------------------------------------------------------------------------\n",
      "51) Neutrogena............. (32 products)\n",
      "\t- Neutrogena Kids Oil Free Water Resistant Sunscreen Spray Pack - SPF 70 - 5oz\n",
      "\t- Neutrogena Ultra Sheer Lightweight Sunscreen Spray - SPF 100+ - 5oz\n",
      "\t- Neutrogena Ultra Sheer Dry-Touch Sunscreen Lotion\n",
      "\t- Neutrogena Ultra Sheer Lightweight Sunscreen Spray - SPF 30 - 5oz\n",
      "\t- Neutrogena Clear Face Liquid Sunscreen Lotion - 3 fl oz\n",
      "\t- Neutrogena Beach Defense Sunscreen Spray - 6.5 oz\n",
      "\t- Neutrogena Beach Defense Lotion - SPF 50 - 6.7 fl oz\n",
      "\t- Neutrogena Ultra Sheer Non-Greasy Sunscreen Stick - SPF 70 - 1.5oz\n",
      "\t- Neutrogena Beach Defense Spray - SPF 30 - 8.5oz\n",
      "\t- Neutrogena Invisible Daily Defense Sunscreen Face Mist - SPF 50 - 3.4 fl oz\n",
      "\t- Neutrogena Sensitive Skin Liquid Face Sunscreen - SPF 50 - 1.4floz\n",
      "\t- Neutrogena Sheer Zinc Vitamin E Sunscreen Stick - SPF 50 - 1.5 oz\n",
      "\t- Neutrogena Invisible Daily Defense Sunscreen Face Serum - SPF 60 - 1.7 fl oz\n",
      "\t- Neutrogena Ultra Sheer Face Mist - SPF 55 - 3.4 fl oz\n",
      "\t- Neutrogena Pure & Free Baby Sunscreen Lotion - SPF 50 - 3 fl oz\n",
      "\t- Neutrogena Invisible Daily Defense Sunscreen Lotion - 3 fl oz\n",
      "\t- Neutrogena Age Shield Face Sunscreen - SPF 110 - 3 fl oz\n",
      "\t- Neutrogena Sheer Zinc Mineral Sunscreen Lotion - SPF 50 - 3 fl oz\n",
      "\t- Neutrogena Oil Free Facial Moisturizer SPF 15 Sunscreen & Glycerin - 4 fl oz\n",
      "\t- Neutrogena Wet Skin Kids Sunscreen Stick - SPF 70 - 0.47oz\n",
      "\t- Neutrogena Sheer Zinc Sunscreen Face Lotion - SPF 50 - 2oz\n",
      "\t- Neutrogena Clear Body Lotion - SPF 30 - 5 fl oz\n",
      "\t- Neutrogena Sensitive Skin Sunscreen Broad Spectrum - SPF 60+ - 3 fl oz\n",
      "\t- Neutrogena Ultra Sheer Sunscreen Spray - SPF 70 - 5oz\n",
      "\t- Neutrogena Hydro Boost Gel Moisturizing Sunscreen Lotion - 3 fl oz\n",
      "\t- Neutrogena Beach Defense Spray - SPF 70 - 6.5oz\n",
      "\t- Neutrogena Ultra Sheer Sunscreen Lotion - SPF 55 - 3 fl oz\n",
      "\t- Neutrogena Ultra Sheer Sunscreen Spray - SPF 30 - 5 fl oz\n",
      "\t- Neutrogena Ultimate Sport Sunscreen Face Lotion - SPF 70 - 2.5 fl oz\n",
      "\t- Neutrogena Ultra Sheer Sunscreen Lotion - SPF 70 - 3 fl oz\n",
      "\t- Neutrogena Beach Defense Sunscreen Lotion - SPF 70 - 6.7 fl oz\n",
      "\t- Neutrogena Ultra Sheer Sunscreen Spray - SPF 70 - 5oz\n"
     ]
    }
   ],
   "source": [
    "ordered_prod_by_brand = {}\n",
    "buff = max([len(b) for b in known_brands])+1\n",
    "for idx, (brand, titles) in enumerate(sorted(prod_by_brand.items(), key=lambda x : (len(x[1]),x[0])),1):\n",
    "    ordered_prod_by_brand[brand] = titles\n",
    "    print('-'*80)\n",
    "    print(f'{idx:>2}) {brand:.<{buff}} ({len(titles)} products)')\n",
    "    for title in titles:\n",
    "        print(f'\\t- {title}')"
   ]
  },
  {
   "cell_type": "code",
   "execution_count": 508,
   "id": "7056c5b9",
   "metadata": {
    "hidden": true
   },
   "outputs": [],
   "source": [
    "json.dump(ordered_prod_by_brand, open('products_by_brand.json','w'), indent=4)"
   ]
  },
  {
   "cell_type": "markdown",
   "id": "c2438a1d",
   "metadata": {
    "heading_collapsed": true
   },
   "source": [
    "## Structure (Normalize?) Data"
   ]
  },
  {
   "cell_type": "code",
   "execution_count": 198,
   "id": "f9df944a",
   "metadata": {
    "hidden": true
   },
   "outputs": [],
   "source": [
    "# Product Table\n",
    "# id, name, SPF, fl_oz\n",
    "products = pd.DataFrame(data, )\n",
    "\n",
    "# Brand Table\n",
    "# product_id, brand\n",
    "brands = pd.DataFrame()\n",
    "\n",
    "# Ingredients Table\n",
    "# id, name\n",
    "ingredients = pd.DataFrame()\n",
    "\n",
    "# Ingredient name alternatives\n",
    "# ingredient_id, alt_name\n",
    "ingredient_alt_names = pd.DataFrame()\n",
    "\n",
    "# Product ingredients table\n",
    "# product_id, ingredient_id, is_active, rank, perc\n",
    "product_ingredients = pd.DataFrame()"
   ]
  },
  {
   "cell_type": "markdown",
   "id": "fd23ce5c",
   "metadata": {},
   "source": [
    "## EDA"
   ]
  },
  {
   "cell_type": "markdown",
   "id": "a9a619df",
   "metadata": {},
   "source": [
    "## Application Demo"
   ]
  },
  {
   "cell_type": "code",
   "execution_count": 12,
   "id": "82160ac1",
   "metadata": {},
   "outputs": [],
   "source": [
    "from functools import reduce\n",
    "from statistics import median\n",
    "from random import random"
   ]
  },
  {
   "cell_type": "code",
   "execution_count": 13,
   "id": "919b4692",
   "metadata": {},
   "outputs": [
    {
     "data": {
      "text/plain": [
       "0.8759791297420325"
      ]
     },
     "execution_count": 13,
     "metadata": {},
     "output_type": "execute_result"
    }
   ],
   "source": []
  },
  {
   "cell_type": "code",
   "execution_count": 129,
   "id": "3813e6d0",
   "metadata": {},
   "outputs": [],
   "source": [
    "def get_ingredients(product_name):\n",
    "    global product_details\n",
    "    prod = product_details.get(product_name, None)\n",
    "    if prod is not None:\n",
    "        ing = set()\n",
    "        ing.update({x.name for x in prod.get('Inactive ingredients', {})})\n",
    "        ing.update({x.name for x in prod.get('Active ingredients', {})})\n",
    "        return ing\n",
    "    return {}\n",
    "\n",
    "def find_products(ingredient, includes=True):\n",
    "    global product_details\n",
    "    products = []\n",
    "    \n",
    "    for prod in product_details:\n",
    "        in_product = ingredient in get_ingredients(prod)\n",
    "        if (includes and in_product) or (not includes and not in_product):\n",
    "            products.append(prod)\n",
    "\n",
    "    return products\n",
    "\n",
    "def get_doc_freq(ingredient_sets):\n",
    "    '''\n",
    "    Args:\n",
    "    ingredient_sets : list[set]\n",
    "    \n",
    "    Returns:\n",
    "    dict[word] = freq\n",
    "    '''\n",
    "    freq = {}\n",
    "    increment = 1/len(ingredient_sets)\n",
    "    \n",
    "    for product in ingredient_sets:\n",
    "        for ingr in product:\n",
    "            freq[ingr] = freq.get(ingr, 0) + increment\n",
    "    \n",
    "    return freq\n",
    "\n",
    "class Scorer():\n",
    "    def __init__(self, impute_val=None):\n",
    "        self.impute_val = impute_val\n",
    "    \n",
    "    def fit(self, bad_products, good_products=None):\n",
    "        if good_products is None:\n",
    "            good_products = []\n",
    "        bad_ingredients  = [get_ingredients(p) for p in bad_products]\n",
    "        good_ingredients = [get_ingredients(p) for p in good_products]\n",
    "        \n",
    "        all_ingredients = reduce(lambda x,y : x|y, bad_ingredients + good_ingredients)        \n",
    "        \n",
    "        \n",
    "        bad_df  = get_doc_freq(bad_ingredients)\n",
    "        good_df = get_doc_freq(good_ingredients)\n",
    "        \n",
    "        \n",
    "        scores = {}\n",
    "        for ingr in all_ingredients:\n",
    "            scores[ingr] = bad_df.get(ingr,0) - good_df.get(ingr,0)\n",
    "\n",
    "        self.ingredient_scores_ = dict(sorted(scores.items(), key=lambda kv : kv[1], reverse=True))\n",
    "        \n",
    "        # Rank all unique ingredient scores\n",
    "        self.ranked_scores_ = sorted(set(self.ingredient_scores_.values()), reverse=True)\n",
    "        \n",
    "        # Impute mean score to any unseen ingredients\n",
    "        if self.impute_val is None:\n",
    "            self.impute_val = sum(self.ingredient_scores_.values())/len(all_ingredients)\n",
    "        #self.impute_val = median(self.scores_.values())\n",
    "        \n",
    "        return self\n",
    "    \n",
    "    def get_ingredient_score_rank(self, ingredient):\n",
    "        rank = self.ranked_scores_.index(ingredient)\n",
    "        return rank+1 if rank != -1 else -1\n",
    "    \n",
    "    def score_ingredients(self, ingredients):\n",
    "        scores = []\n",
    "        for ingr in ingredients: \n",
    "            scores.append(self.ingredient_scores_.get(ingr, self.impute_val))\n",
    "        return scores\n",
    "    \n",
    "    def score_products(self, products):\n",
    "        scores = []\n",
    "        for prod in products:\n",
    "            ingr = get_ingredients(prod)\n",
    "            if not ingr:\n",
    "                scores.append(self.impute_val)\n",
    "            else:\n",
    "                ingr_scores = self.score_ingredients(ingr)\n",
    "                score = -sum(ingr_scores)/len(ingr_scores)\n",
    "                scores.append(score)\n",
    "        return scores\n",
    "        \n",
    "    def filtered_scores(self, min_score = 0, max_n_scores=10):\n",
    "        scores_filt = {}\n",
    "        prev_rank = 0\n",
    "        for ingr, score in self.ingredient_scores_.items():\n",
    "            rank = self.get_ingredient_score_rank(score)\n",
    "            \n",
    "            score_pass = score >= min_score \n",
    "            rank_pass  = (rank == 1) or (rank == prev_rank)\n",
    "            len_pass   = len(scores_filt) <= max_n_scores\n",
    "            if score_pass and (rank_pass or len_pass):\n",
    "                scores_filt[ingr] = (rank, score)\n",
    "                prev_rank = rank\n",
    "                \n",
    "        # Trim off last rank if too many entries\n",
    "        if len(scores_filt) > max_n_scores:\n",
    "            scores_filt = {k:v for k,v in scores_filt.items() if v[0] < prev_rank}\n",
    "        \n",
    "        # Remove rank\n",
    "        return {k:v[1] for k,v in scores_filt.items()}\n",
    " \n",
    "# def find_potential_allergens(bad_products, good_products=None):    \n",
    "#     scorer = IngredientScorer().fit(bad_products, good_products)\n",
    "#     all_ingredients = reduce(lambda x,y : x|y, bad_ingredients + good_ingredients)\n",
    "#     scores = scorer.transform(all_ingredients)\n",
    "#     #scores = score_ingredients(bad_ingredients, good_ingredients)\n",
    "#     return scores\n",
    "\n",
    "# def score_ingredients(bad_ingredients, good_ingredients):\n",
    "#     bad_df = get_doc_freq(bad_ingredients)\n",
    "#     good_df = get_doc_freq(good_ingredients)\n",
    "#     all_ingredients = reduce(lambda x,y : x|y, bad_ingredients + good_ingredients)\n",
    "    \n",
    "#     scores = {ingr : bad_df[ingr] - good_df[ingr] for ingr in all_ingredients}\n",
    "    \n",
    "#     # Sort by score and group scores to assign rank\n",
    "#     rank = sorted(set(scores.values()), reverse=True)\n",
    "#     scores2 = {}\n",
    "#     for ingr, score in sorted(scores.items(), key=lambda kv : -kv[1]):\n",
    "#         scores2[ingr] = (rank.index(score)+1, score)\n",
    "#     return scores2"
   ]
  },
  {
   "cell_type": "code",
   "execution_count": 130,
   "id": "683c5cab",
   "metadata": {},
   "outputs": [],
   "source": [
    "bad_products  = [\n",
    "    'Banana Boat Ultra Sport Sunscreen Lotion - 8 fl oz',\n",
    "    'Coppertone Pure & Simple Sunscreen Lotion - SPF 50 - 6 fl oz',\n",
    "    #'Sport Sunscreen Lotion - SPF 30 - 3oz - up & up™',\n",
    "    #'Cetaphil Sheer Mineral Sunscreen - SPF 50 - 3 fl oz'\n",
    "]\n",
    "good_products = [\n",
    "    'Neutrogena Sensitive Skin Sunscreen Broad Spectrum - SPF 60+ - 3 fl oz',\n",
    "    'La Roche-Posay Anthelios Melt in Milk Sunscreen Lotion - SPF 100 - 3.0 fl oz',\n",
    "]\n",
    "consider_products = [\n",
    "    'Sun Bum Original Sunscreen Lotion',\n",
    "    'CeraVe Hydrating Sunscreen Body Lotion - SPF 50 - 5 fl oz',\n",
    "]\n",
    "scorer = Scorer().fit(bad_products, good_products)"
   ]
  },
  {
   "cell_type": "code",
   "execution_count": 123,
   "id": "1e72520b",
   "metadata": {},
   "outputs": [],
   "source": [
    "ingr_scores = scorer.ingredient_scores_\n",
    "ingr_scores_filt = scorer.filtered_scores(min_score=0, max_n_scores=20)\n",
    "prod_scores = scorer.score_products(consider_products)"
   ]
  },
  {
   "cell_type": "code",
   "execution_count": 124,
   "id": "f0d892dd",
   "metadata": {},
   "outputs": [
    {
     "data": {
      "text/plain": [
       "[-0.38]"
      ]
     },
     "execution_count": 124,
     "metadata": {},
     "output_type": "execute_result"
    }
   ],
   "source": [
    "scorer.score_products([bad_products[1]])"
   ]
  },
  {
   "cell_type": "code",
   "execution_count": 127,
   "id": "74a981e8",
   "metadata": {},
   "outputs": [
    {
     "name": "stdout",
     "output_type": "stream",
     "text": [
      "90 total ingredients scored\n",
      "1 ingredients to show\n",
      "--------------------------------------------------------------------------------\n",
      "Rank 1) 1.00 : propylene glycol\n",
      "------------------------------ Filtered ------------------------------\n",
      "Rank 2) 0.50 : polyester-27\n",
      "Rank 2) 0.50 : p0023 caprylyl glycol\n",
      "Rank 2) 0.50 : 1\n",
      "Rank 2) 0.50 : cetyl peg/ppg-10/1 dimethicone\n",
      "Rank 2) 0.50 : bis-octyldodecyl dimer dilinoleate/propanediol copolymer\n",
      "Rank 2) 0.50 : fragrance\n",
      "Rank 2) 0.50 : aloe barbadensis leaf juice\n",
      "Rank 2) 0.50 : octisalate\n",
      "Rank 2) 0.50 : avobenzone\n",
      "Rank 2) 0.50 : hydroxyacetophenone\n",
      "Rank 2) 0.50 : sodium chloride\n",
      "Rank 2) 0.50 : sacred lotus extract\n",
      "Rank 2) 0.50 : octocrylene\n",
      "Rank 2) 0.50 : isopropyl palmitate\n",
      "Rank 2) 0.50 : ethylhexyl methoxycrylene\n",
      "Rank 2) 0.50 : vp/eicosene copolymer\n",
      "Rank 2) 0.50 : peg-12 dimethicone crosspolymer\n",
      "Rank 2) 0.50 : cetyl alcohol\n",
      "Rank 2) 0.50 : c12-15 alkyl benzoate\n",
      "Rank 2) 0.50 : 2-hexanediol\n",
      "Rank 2) 0.50 : giant kelp extract\n",
      "Rank 2) 0.50 : tea leaf extract\n",
      "Rank 2) 0.50 : acrylates c12-22 alkyl methacrylate copolymer\n",
      "Rank 2) 0.50 : triethoxycaprylysilane\n",
      "Rank 2) 0.50 : cyclopentasiloxane\n",
      "Rank 2) 0.50 : homosalate\n",
      "Rank 2) 0.50 : sodium polyacrylate\n",
      "Rank 2) 0.50 : ethylhexyl isononanoate\n",
      "--------------------------------------------------------------------------------\n",
      "2 total products scored\n",
      "0.15 : Sun Bum Original Sunscreen Lotion\n",
      "0.24 : CeraVe Hydrating Sunscreen Body Lotion - SPF 50 - 5 fl oz\n",
      "--------------------------------------------------------------------------------\n",
      "Top Scoring Products\n",
      "0.35 : La Roche-Posay Anthelios Melt-In-Milk Body and Face Sunscreen Lotion – SPF 60 - 5 oz\n",
      "0.33 : Neutrogena Age Shield Face Sunscreen - SPF 110 - 3 fl oz\n",
      "0.31 : La Roche-Posay Anthelios Anti-Aging Daily Face Primer with Sunscreen SPF 50 - 1.35oz\n",
      "0.30 : La Roche-Posay Anthelios Tinted Mineral Face Primer with Sunscreen - SPF 50 - 1.35 fl oz\n",
      "0.30 : Cetaphil Sheer Mineral Sunscreen - SPF 50 - 3 fl oz\n",
      "0.29 : La Roche-Posay Anthelios Cooling Water-Lotion Face and Body Sunscreen SPF 60 - 5.0 fl oz\n",
      "0.28 : La Roche-Posay Anthelios Melt In Milk Lotion Face and Body Sunscreen - SPF 60 - 3oz\n",
      "0.27 : Coppertone Sport Sunscreen Lotion - 7 fl oz\n",
      "0.26 : La Roche-Posay Anthelios HA Sunscreen - SPF 30 - 1.7 fl oz\n",
      "0.25 : CeraVe Hydrating Mineral Face Sunscreen Lotion with Zinc Oxide – SPF 30 - 2.5oz\n"
     ]
    }
   ],
   "source": [
    "print(f'{len(ingr_scores)} total ingredients scored')\n",
    "print(f'{len(ingr_scores_filt)} ingredients to show')\n",
    "print('-'*80)\n",
    "flag = True\n",
    "for ingr, score in ingr_scores.items():\n",
    "    if score > 0:\n",
    "        if flag and ingr not in ingr_scores_filt:\n",
    "            flag = False\n",
    "            print('-'*30,'Filtered','-'*30)\n",
    "        rank = scorer.get_ingredient_score_rank(score)\n",
    "        print(f'Rank {rank}) {score:.2f} : {ingr}')\n",
    "print('-'*80)\n",
    "print(f'{len(prod_scores)} total products scored')\n",
    "for prod, score in zip(consider_products, prod_scores):\n",
    "    print(f'{score:.2f} : {prod}')\n",
    "\n",
    "print('-'*80)\n",
    "print(f'Top Scoring Products')\n",
    "all_prods = list(product_details.keys())\n",
    "excl_prods = bad_products + good_products + consider_products\n",
    "rec_prods = [p for p in all_prods if p not in excl_prods]\n",
    "rec_prod_scores = scorer.score_products(rec_prods)\n",
    "rec_prods_sort = sorted(zip(rec_prods,rec_prod_scores), key=lambda x:x[1], reverse=True)\n",
    "for prod, score in rec_prods_sort[:10]:\n",
    "    print(f'{score:.2f} : {prod}')"
   ]
  },
  {
   "cell_type": "code",
   "execution_count": 17,
   "id": "6a827f3a",
   "metadata": {},
   "outputs": [],
   "source": [
    "import json\n",
    "json.dump(product_details, open('data/product_details.json', 'w'))"
   ]
  },
  {
   "cell_type": "code",
   "execution_count": 20,
   "id": "4c2b3b77",
   "metadata": {},
   "outputs": [
    {
     "name": "stdout",
     "output_type": "stream",
     "text": [
      "Banana Boat Sport Performance Sunscreen Lotion - SPF 30 - 3oz\n",
      "Banana Boat Ultra Sport Sunscreen Lotion - 8 fl oz\n",
      "Black Girl Sunscreen Broad Spectrum - SPF 30 - 3 fl oz\n",
      "Black Girl Sunscreen Kids Broad Spectrum - SPF 50 - 3 fl oz\n",
      "Cetaphil Sheer Mineral Sunscreen - SPF 50 - 3 fl oz\n",
      "Coppertone Kids Pure and Simple Botanicals Sunscreen Lotion- SPF 50 - 6oz\n",
      "Coppertone Kids Tear Free Mineral Sunscreen Lotion - SPF 50 - 8oz\n",
      "Coppertone Pure & Simple Baby Mineral Sunscreen - SPF 50 - 6 fl oz\n",
      "Coppertone Pure & Simple Baby Sunscreen Spray - SPF 50 - 5oz\n",
      "Coppertone Pure & Simple Kid's Sunscreen Spray - SPF 50 - 5oz\n",
      "Coppertone Pure & Simple Sunscreen Lotion - SPF 50 - 6 fl oz\n",
      "Coppertone Pure & Simple Sunscreen Spray - SPF 50 - 5oz\n",
      "Coppertone Pure and Simple Botanicals Faces Sunscreen Lotion- SPF 50 - 2oz\n",
      "Coppertone Sport Mineral Sunscreen Face Lotion - SPF 50 - 2.5 fl oz\n",
      "Coppertone Sport Mineral Sunscreen Spray - SPF 50 - 5oz\n",
      "La Roche-Posay Anthelios AOX Daily Antioxidant Face Serum with Sunscreen – SPF 50 - 1 fl oz\n",
      "La Roche-Posay Anthelios Cooling Water-Lotion Face and Body Sunscreen SPF 30 - 5.0oz\n",
      "La Roche-Posay Anthelios Cooling Water-Lotion Face and Body Sunscreen SPF 60 - 5.0 fl oz\n",
      "La Roche-Posay Anthelios Melt In Milk Lotion Face and Body Sunscreen - SPF 60 - 3oz\n",
      "La Roche-Posay Anthelios Melt-In-Milk Body and Face Sunscreen Lotion – SPF 60 - 5 oz\n",
      "La Roche-Posay Anthelios SX Daily Face Moisturizer with Sunscreen and Mexoryl – SPF 15 – 3.4 oz\n",
      "La Roche-Posay Anthelios Ultra-Light Fluid Mineral Face Sunscreen with Zinc Oxide – SPF 50 - 1.7 fl oz\n",
      "La Roche-Posay Anthelios Ultra-Light Fluid Tinted Mineral Face Sunscreen with Titanium Dioxide – SPF 50 - 1.7 fl oz\n",
      "Neutrogena Clear Body Lotion - SPF 30 - 5 fl oz\n",
      "Neutrogena Clear Face Liquid Sunscreen Lotion - 3 fl oz\n",
      "Olay Age Defying Anti-Wrinkle Day Lotion with Sunscreen - SPF 15 - 3.4oz\n",
      "Olay Complete All Day Moisture SPF Skin Cream\n",
      "RoC Multi Correxion 5 In 1 Daily Moisturizer with Sunscreen - SPF 30 - 1.7 fl oz\n",
      "Sport Lotion Twin Pack - SPF 50 - 20.8 fl oz - up & up™\n",
      "Sport Sunscreen Lotion - 10.4 fl oz - up & up™\n",
      "Sport Sunscreen Lotion - SPF 30 - 3oz - up & up™\n"
     ]
    }
   ],
   "source": [
    "print('\\n'.join(sorted(find_products('propylene glycol'))))"
   ]
  },
  {
   "cell_type": "code",
   "execution_count": 23,
   "id": "9eef3723",
   "metadata": {},
   "outputs": [
    {
     "name": "stdout",
     "output_type": "stream",
     "text": [
      "Adult Sport Sunscreen Stick - SPF 55 - up & up™\n",
      "Alba Botanica Emollient Sunscreen Sport Lotion - SPF 45 - 4oz\n",
      "Alba Botanica Fragrance Free Sunscreen Lotion - SPF 30 - 4oz\n",
      "Alba Botanica Hawaiian Coconut Sunscreen Spray - SPF 50 - 6 fl oz\n",
      "Alba Botanica Hawaiian Green Tea Sunscreen Lotion - SPF 45 - 4oz\n",
      "Alba Botanica Sweet Pea Sheer Shield Sunscreen - SPF 45 - 3oz\n",
      "Alba Botanica Very Emollient Active Kids Clear Sunscreen Spray - SPF 50 - 6oz\n",
      "Alba Botanica Very Emollient Kids Sunscreen Lotion - SPF 45 - 4oz\n",
      "All Good Coconut Sunstick - SPF 30 - 0.6oz\n",
      "All Good Kids Sunscreen Butter Stick Water Resistant - SPF 50+ - 2oz\n",
      "All Good Kids Sunscreen Lotion Water Resistant - SPF 30 - 3oz\n",
      "All Good Kids Sunscreen Spray Water Resistant - SPF 30 - 6oz\n",
      "All Good Sport Sunscreen Butter Stick Water Resistant - SPF 50+ - 2oz\n",
      "All Good Sport Sunscreen Lotion Water Resistant - SPF 30 - 3oz\n",
      "All Good Sport Sunscreen Spray Water Resistant - SPF30 - 6oz\n",
      "All Good Tinted Sunscreen Lotion - SPF 30 - 3 fl oz\n",
      "All Good Zinc Sunscreen Butter - SPF 50+ - 1oz\n",
      "Australian Gold Botanical Mineral Sunscreen Lotion - 5 fl oz\n",
      "Australian Gold Botanical Tinted Face Sunscreen Lotion - Fair - SPF 50 - 3 fl oz\n",
      "Australian Gold Botanical Tinted Face Sunscreen Lotion - Rich To Deep - SPF 50 -3 fl oz\n",
      "Australian Gold Face Guard - SPF 50 - .5oz\n",
      "Australian Gold Little Joey Kids Sunscreen Lotion - SPF 50 - 8 fl oz\n",
      "Australian Gold Plant Based Sunscreen Face Lotion - SPF 50 - 3 fl oz\n",
      "Australian Gold Plant Based Sunscreen Lotion - 6 fl oz\n",
      "Australian Gold Soothing Aloe Sunscreen Spray Gel - SPF 15\n",
      "Australian Gold Sunscreen Continuous Spray - 6 oz\n",
      "Australian Gold Sunscreen Lotion - SPF 30 - 8 fl oz\n",
      "Australian Gold Sunscreen Lotion - SPF 50 - 8 fl oz\n",
      "Australian Gold Sunscreen Spray Gel - SPF 15 - 8 fl oz\n",
      "Australian Gold Sunscreen Spray Gel - SPF 30 - 8 fl oz\n",
      "Australian Gold Sunscreen Spray Gel with Instant Bronzer - 8 fl oz\n",
      "Aveeno Baby Continuous Protect Sunscreen with SPF 50 - 3.5 fl oz\n",
      "Aveeno Baby Continuous Protection Sensitive - Zinc Oxide with Broad Spectrum Skin Lotion Sunscreen - SPF 50 - 3 fl oz\n",
      "Aveeno Baby Continuous Protection Sensitive Lotion - SPF 50 - 2ct/6 fl oz Total\n",
      "Aveeno Baby Continuous Protection Zinc Oxide Mineral Sunscreen - SPF 50\n",
      "Aveeno Kids Continuous Protection Zinc Oxide Mineral Sunscreen - SPF 50 - 3 fl oz\n",
      "Aveeno Mineral Sensitive Skin Sunscreen - SPF 50 - 3oz\n",
      "Aveeno Positively Mineral Sensitive Skin Sunscreen - SPF 50 - 2 fl oz\n",
      "Aveeno Protect & Hydrate Sunscreen Body Lotion - SPF 60 - 3 fl oz\n",
      "Aveeno Protect & Hydrate Sunscreen Face Lotion - SPF 60 - 2 fl oz\n",
      "Aveeno Protect + Hydrate Lotion - SPF 30 - 3oz\n",
      "Aveeno Protect + Hydrate Lotion - SPF 60 - 12oz\n",
      "Aveeno Ultra-Calming Daily Moisturizer Sunscreen - SPF 15 - 4 fl oz\n",
      "Babo Botanicals Baby Face Mineral Sunscreen Stick - SPF 50 - 0.6oz\n",
      "Babo Botanicals Baby Skin Mineral Non-Aerosol Sunscreen Pump Spray SPF 30 - 6 fl oz\n",
      "Babo Botanicals Baby Skin Mineral Sunscreen Lotion - SPF 50 - 3floz\n",
      "Babo Botanicals Clear Zinc Sport Stick - SPF 30 - .6oz\n",
      "Babo Botanicals Clear for Babies Fragrance Free Zinc Sunscreen Lotion - SPF 30 - 3 fl oz\n",
      "Babo Botanicals Lip Tint Conditioner - Wild Rose - SPF 15 - 0.15oz\n",
      "Babo Botanicals Natural Glow Daily Sheer Tinted Sunscreen - SPF 30 - 1.7 fl oz\n",
      "Babo Botanicals Sheer Mineral Sensitive Gentle Sunscreen Lotion - SPF 50 - 3 fl oz\n",
      "Babo Botanicals Sheer Mineral Sensitive Sunscreen Spray - SPF 50 - 6 fl oz\n",
      "Babo Botanicals Sheer Zinc Sunscreen Spray Fragrance - SPF 30 - 6.0oz\n",
      "Babo Botanicals Super Shield Sport Sunscreen Stick Fragrance - SPF 50 - 0.6oz\n",
      "Babo Botanicals Tinted Face Mineral Sunscreen Stick - SPF 50 - 0.6oz\n",
      "Babo Bototanicals Lip Tint Conditioner - Beach Rose - SPF 15 - .15oz\n",
      "Babo Lip Tint Conditioner Plum Rose - SPF 15 - .15oz\n",
      "Babo SPF 15 Lip Tint Conditioner - Crimson Rose - .15oz\n",
      "Baby Bum Mineral Sunscreen Lotion SPF 50 - 3 fl oz\n",
      "Baby Bum Mineral Sunscreen Tube, SPF 50 - 0.45oz\n",
      "Baby Bum Sunscreen Spray SPF 50 - 3 fl oz\n",
      "Babyganics BKids Sunscreen - SPF 50 - 6 fl oz\n",
      "Babyganics Kid's Sunscreen Continuous Spray - SPF 50 - 6oz\n",
      "Babyganics Kids Continuous Sunscreen Spray  - SPF 50 - 2ct/6 fl oz\n",
      "Babyganics Kids Sunscreen Stick - SPF 50 - 2pk/3.2 fl oz\n",
      "Babyganics Kids' Sunscreen Lotion with SPF 50 - 2 fl oz\n",
      "Babyganics Mineral Sunscreen Stick - SPF 50 - 2ct\n",
      "Babyganics Mineral-Based Baby Sunscreen Lotion, SPF 50 - 6 fl oz\n",
      "Babyganics Mineral-Based Baby Sunscreen Spray SPF 50 - 6 fl oz\n",
      "Babyganics Pure Mineral Baby Sunscreen Stick, SPF 50 - 0.47oz\n",
      "Babyganics Sun & Bug Duo Set\n",
      "Babyganics Sunscreen & Insect Repellant with SPF 50 - 4 fl oz/2pk\n",
      "Babyganics Sunscreen Lotion - SPF 50 - 2 fl oz\n",
      "Babyganics Sunscreen Lotion - SPF 50 - 2ct/6 fl oz\n",
      "Babyganics Sunscreen Lotion Broad Spectrum Protection - SPF 50 - 8 fl oz\n",
      "Babyganics Sunscreen Lotion with SPF 50 - 4 fl oz/2pk\n",
      "Babyganics Sunscreen Spray - SPF 50 - 2ct/6 fl oz\n",
      "Badger Sport Mineral Sunscreen Cream - SPF 40 - 2.9 fl oz\n",
      "Badger Sport Mineral Sunscreen Face Stick - SPF 35 - 0.65oz\n",
      "Banana Boat Baby Mineral Enriched Sunscreen Spray - SPF 50 - 6oz\n",
      "Banana Boat Dry Oil Ultra Mist - SPF 8 - 6oz\n",
      "Banana Boat Kids 100% Mineral Sunscreen Lotion - SPF 50 - 9oz\n",
      "Banana Boat Kids Amazing Apple Mineral Foam - SPF 50 - 4oz\n",
      "Banana Boat Kids Max Protect & Play Sunscreen C-Spray - SPF 100 - 6oz\n",
      "Banana Boat Kids Mineral Enriched Sunscreen Spray - SPF 50 - 6oz\n",
      "Banana Boat Kids Mineral Enriched Sunscreen Spray - SPF 50 - 9.5oz\n",
      "Banana Boat Kids Mineral Sunscreen Foam - SPF 50 - 4oz/2pk\n",
      "Banana Boat Kids Mineral Sunscreen Lotion - SPF 50 - 6 fl oz\n",
      "Banana Boat Kids Sport Sunscreen Spray - SPF 50+ - 9.5oz\n",
      "Banana Boat Light As Air Sunscreen Lotion - SPF 50 - 6 fl oz\n",
      "Banana Boat Light As Air Sunscreen Spray - SPF 50 - 6oz\n",
      "Banana Boat Lip Twin Pack Sunscreen - SPF 40 - 0.3oz\n",
      "Banana Boat Simply Protect Sensitive Face Sunscreen Lotion - SPF 50 - 3oz/2pk\n",
      "Banana Boat Simply Protect Sensitive Sunscreen Lotion - SPF 50 - 6oz/2pk\n",
      "Banana Boat Sport 100% Mineral Sunscreen Lotion - SPF 50 - 9oz\n",
      "Banana Boat Sport Mineral Enriched Sunscreen Spray - SPF 50 - 9.5oz\n",
      "Banana Boat Ultra Sport Clear Sunscreen Spray\n",
      "Bare Republic Coco Mango Mineral Spray - SPF 30 - 6 fl oz\n",
      "Bare Republic Mineral Body Gel Sunscreen Lotion - SPF 30 - 4 fl oz\n",
      "Bare Republic Mineral Face Gel Sunscreen Lotion - SPF 30 - 1.7 fl oz\n",
      "Bare Republic Mineral Face Sunscreen - SPF 70 - 2 fl oz\n",
      "Bare Republic Mineral Face Sunscreen Lotion - SPF 30 - 1.7 fl oz\n",
      "Bare Republic Mineral Sport Sunscreen Stick - SPF 50 - 0.5oz\n",
      "Bare Republic Mineral Sunscreen Neon Stick Atomic Orange - SPF 50 -  0.3oz\n",
      "Bare Republic Mineral Sunscreen Stick Lightening Yellow - SPF 50 - 0.3oz\n",
      "Bare Republic Mineral Sunscreen Vanilla Coco Lotion - SPF 50 - 5.0 fl oz\n",
      "Bare Republic Mineral Sunscreen Vanilla Coco Spray SPF 50 - 6.0 fl oz\n",
      "Bare Republic Neon Sunscreen Stick Golbin Green - SPF 50 - 0.3oz\n",
      "Bare Republic Neon Sunset Sunscreen Stick Set - SPF 50 - 3ct/0.9oz\n",
      "Bare Republic Sunscreen Baby Lotion - SPF 50 - 3.4 fl oz\n",
      "Bare Republic Sunscreen Baby Soft Stick - SPF 50 - 0.9oz\n",
      "Black Girl Sunscreen Make It Matte Sunscreen - SPF 45 - 1.7 fl oz\n",
      "Blue Lizard Active Australian Sunscreen - SPF 30\n",
      "Blue Lizard Active Mineral-Based Sunscreen Lotion - SPF 50 - 5 fl oz\n",
      "Blue Lizard Baby Sunscreen Lotion - SPF 30\n",
      "Blue Lizard Baby Sunscreen Stick - Elmo - SPF 50 - 0.5oz\n",
      "Blue Lizard Kid's Australian Sunscreen - SPF 30\n",
      "Blue Lizard Kids Mineral-Based Sunscreen Lotion - SPF 50 - 5 fl oz\n",
      "Blue Lizard Kids' Sunscreen Stick - Cookie Monster - SPF 50 - 0.5oz\n",
      "Blue Lizard Sensitive Face Mineral Sunscreen - SPF 30+ - 1.7oz\n",
      "Blue Lizard Sensitive Mineral Sunscreen Lotion - SPF 50+ - 5 fl oz\n",
      "Blue Lizard Sensitive Sunscreen  Lotion - SPF 30\n",
      "Blue Lizard Sensitive Sunscreen Stick - SPF 50 - 0.5oz\n",
      "Bravo Sierra Face Sunscreen SPF 30 - 3 fl oz\n",
      "C'est Moi Gentle Mineral Sunscreen Lotion SPF 30 - 3.4 fl oz\n",
      "C'est Moi Sunshine Mineral Body & Face SPF 45 Sunscreen - 3.4 fl oz\n",
      "C'est Moi Sunshine Mineral Face Sunscreen Stick with SPF 50 Water Resistant (80 minutes) - 0.57oz\n",
      "COOLA Classic Face Sunscreen - Unscented - SPF 50 - 1.7 fl oz\n",
      "COOLA Classic Octinoxate Free Face Sunscreen - Cucumber - SPF 30 - 1.7 fl oz\n",
      "CeraVe AM Facial Moisturizing Lotion with Sunscreen - SPF 30\n",
      "CeraVe Hydrating Mineral Face Sunscreen Lotion with Zinc Oxide – SPF 30 - 2.5oz\n",
      "CeraVe Hydrating Mineral Face Sunscreen Lotion with Zinc Oxide – SPF 50 – 2.5oz\n",
      "CeraVe Hydrating Sunscreen Body Lotion - SPF 50 - 5 fl oz\n",
      "CeraVe Ultra-Light Face Moisturizer with Sunscreen - SPF 30 – 1.7oz\n",
      "Cetaphil Sheer Mineral Face Liquid Drops - SPF 50 - 1.7 fl oz\n",
      "Cetaphil Sheer Mineral Sunscreen Stick - SPF 50 - 0.5oz\n",
      "Cetaphil Sheer Mineral Sunscreens - SPF 30 - 3 fl oz\n",
      "Continuous Sport Sunscreen Spray - up & up™\n",
      "Coola Classic Continuous Sunscreen Spray - Guava Mango - SPF 50 - 6 fl oz\n",
      "Coola Classic Sunscreen Lotion - Guava Mango - SPF 50 - 5 fl oz\n",
      "Coola Organic Classic Body Sunscreen Lotion - SPF 30 - Tropical Coconut - 5.0oz\n",
      "Coola Organic Classic Body Sunscreen Spray - SPF 30 - Tropical Coconut - 6.0oz\n",
      "Coola Organic Classic Sunscreen Face & Body Stick - SPF 30 -Tropical Coconut - 0.6 oz\n",
      "Coppertone Glow with Shimmer Sunscreen Lotion - SPF 30 - 5 fl oz\n",
      "Coppertone Kids Sunscreen Spray - SPF 50 - 11oz - Twin Pack\n",
      "Coppertone Sport Clear Sunscreen Lotion - 5 fl oz\n",
      "Coppertone Sport Lotion - SPF 50 - 8.75 fl oz\n",
      "Coppertone Sport Mineral Sunscreen Lotion - SPF 50 - 5 fl oz\n",
      "Coppertone Sport Spray - SPF 50 - 6.9oz\n",
      "Coppertone Sport Sunscreen Lotion - 7 fl oz\n",
      "Coppertone Sport Sunscreen Lotion - SPF 50 - 3 fl oz\n",
      "Coppertone Sport Sunscreen Spray\n",
      "Coppertone Tanning Dry Oil Sunscreen Spray - SPF 15 - 6oz\n",
      "Coppertone Tanning Sunscreen Lotion - SPF 15 - 8oz\n",
      "DERMA E All Sport Performance Face Sunscreen - SPF 30 - 2oz\n",
      "DERMA E All Sport Performance Sunscreen Spray - SPF 50 - 6 fl oz\n",
      "DERMA E Kids Active Sunscreen Spray - SPF 50 - 6 fl oz\n",
      "DERMA E Sun Defense Mineral Body Sunscreen - SPF 30 - 4oz\n",
      "DERMA E Sun Defense Mineral Oil-Free Face Sunscreen - SPF 30 - 2oz\n",
      "DERMA E Ultra Sheer Mineral Body Sunscreen Mist - SPF 30 - 6 fl oz\n",
      "Differin Oil Absorbing Moisturizer with Sunscreen, Broad-Spectrum UVA/UVB SPF 30 - 4oz\n",
      "Dove Men+Care Hydrate + SPF 15 Sunscreen Face Lotion - 1.69oz\n",
      "Everyday Humans Resting Beach Face Sunscreen Serum - SPF 30\n",
      "Garnier Green Labs Canna-B Pore Perfecting Serum Cream - SPF 30 - Unscented - 2.4 fl oz\n",
      "Garnier Green Labs Hyalu-Melon Replumping Serum Cream - SPF 30 - 2.4 fl oz\n",
      "Goddess Garden Baby Sunscreen Lotion SPF 50 - 3.4oz\n",
      "Goddess Garden Baby Sunscreen Stick SPF 50 - .6oz\n",
      "Goddess Garden Kids Natural Sunscreen Tube - SPF 50 - 3.4oz\n",
      "Goddess Garden Mineral Sunscreen Spray - SPF 30 - 3.4oz\n",
      "Goddess Garden Sport Natural Sunscreen Stick - SPF 50 - 0.6oz\n",
      "Hawaiian Tropic Mineral Sun Milk Body Lotion - SPF 30 - 3.4 fl oz\n",
      "Hawaiian Tropic Mineral Sun Milk Body Lotion - SPF 50 - 3.4 fl oz\n",
      "Hawaiian Tropic Mineral Sun Milk Tint Face - SPF 30 - 1.7 fl oz\n",
      "Hawaiian Tropic Sheer Touch Ultra Radiance Lotion Sunscreen - SPF 15 - 8oz\n",
      "Hawaiian Tropic Sheer Touch Ultra Radiance Lotion Sunscreen - SPF 30 - 8oz\n",
      "Hawaiian Tropic Silk Hydration Dry Oil Mist - SPF 15 - 5 fl oz\n",
      "Hawaiian Tropic Silk Hydration Weightless Face Sunscreen - SPF 30 - 1.7oz\n",
      "Hawaiian Tropic Silk Hydration Weightless Sunscreen C-Spray - SPF 30 - 6oz\n",
      "Hawaiian Tropic Silk Hydration Weightless Sunscreen Lotion - SPF 30 - 6oz\n",
      "Kid's Sport Sunscreen Stick - SPF 55 - 0.5oz/2pk - up & up™\n",
      "Kids Sunscreen Lotion - SPF 50 - 10.4 fl oz - up & up™\n",
      "Kids Sunscreen Spray - SPF 50 - up & up™\n",
      "Kids Sunscreen Spray Twin Pack - SPF 50 - 14.6oz - up & up™\n",
      "Kids' Deo Shaped Sport Sunscreen Stick - SPF 55 - 2pk/0.5oz each - up & up™\n",
      "La Roche-Posay Anthelios Anti-Aging Daily Face Primer with Sunscreen SPF 50 - 1.35oz\n",
      "La Roche-Posay Anthelios Body and Face Soft Finish Mineral Sunscreen Lotion - SPF 50 - 3.04 fl oz\n",
      "La Roche-Posay Anthelios Clear Skin Dry Touch Face Sunscreen for Acne Prone Skin - SPF 60 - 1.7oz\n",
      "La Roche-Posay Anthelios HA Sunscreen - SPF 30 - 1.7 fl oz\n",
      "La Roche-Posay Anthelios Melt in Milk Sunscreen Lotion - SPF 100 - 3.0 fl oz\n",
      "La Roche-Posay Anthelios Mineral Sunscreen Body and Face Sunscreen Lotion - SPF 50 - 4.0 fl oz\n",
      "La Roche-Posay Anthelios Tinted Mineral Face Primer with Sunscreen - SPF 50 - 1.35 fl oz\n",
      "La Roche-Posay Anthelios Ultra-Light Fluid Oxybenzone-Free Face Sunscreen – SPF 60 – 1.7 fl oz\n",
      "La Roche-Posay Toleriane Double Repair UV Face Moisturizer with Sunscreen and Niacinamide – SPF 30 – 2.5oz\n",
      "MELE Dew The Most Sheer Facial Moisturizer with SPF 30 Sunscreen for Melanin Rich Skin - 1 fl oz\n",
      "Mele No Shade Sunscreen Oil Broad Spectrum for Melanin Rich Skin - SPF 30 - 1 fl oz\n",
      "Mineral Sunscreen Lotion - SPF 50 - 10.4oz - up & up™\n",
      "Mineral Sunscreen Lotion - up & up™\n",
      "Mineral Sunscreen Spray - up & up™\n",
      "Morning Facial Moisturizing Lotion with Sunscreen SPF 30 - 3 fl oz - up & up™\n",
      "Mustela Fragrance Free Mineral Baby Sunscreen Lotion SPF 50 - 3.38 fl oz\n",
      "Mustela Mineral Baby Sunscreen Spray - SPF 50 - 6 fl oz\n",
      "Mustela Mineral Baby Sunscreen Stick - SPF 50 - 0.6oz\n",
      "Mustela Mineral-Based Baby Sunscreen Spray - SPF 30 - 6 fl oz\n",
      "Neutrogena Age Shield Face Sunscreen - SPF 110 - 3 fl oz\n",
      "Neutrogena Beach Defense Lotion - SPF 50 - 6.7 fl oz\n",
      "Neutrogena Beach Defense Spray - SPF 30 - 8.5oz\n",
      "Neutrogena Beach Defense Spray - SPF 70 - 6.5oz\n",
      "Neutrogena Beach Defense Sunscreen Lotion - SPF 70 - 6.7 fl oz\n",
      "Neutrogena Beach Defense Sunscreen Spray - 6.5 oz\n",
      "Neutrogena Hydro Boost Gel Moisturizing Sunscreen Lotion - 3 fl oz\n",
      "Neutrogena Invisible Daily Defense Sunscreen Face Mist - SPF 50 - 3.4 fl oz\n",
      "Neutrogena Invisible Daily Defense Sunscreen Face Serum - SPF 60 - 1.7 fl oz\n",
      "Neutrogena Invisible Daily Defense Sunscreen Lotion - 3 fl oz\n",
      "Neutrogena Kids Oil Free Water Resistant Sunscreen Spray Pack - SPF 70 - 5oz\n",
      "Neutrogena Oil Free Facial Moisturizer SPF 15 Sunscreen & Glycerin - 4 fl oz\n",
      "Neutrogena Pure & Free Baby Sunscreen Lotion - SPF 50 - 3 fl oz\n",
      "Neutrogena Sensitive Skin Liquid Face Sunscreen - SPF 50 - 1.4floz\n",
      "Neutrogena Sensitive Skin Sunscreen Broad Spectrum - SPF 60+ - 3 fl oz\n",
      "Neutrogena Sheer Zinc Mineral Sunscreen Lotion - SPF 50 - 3 fl oz\n",
      "Neutrogena Sheer Zinc Sunscreen Face Lotion - SPF 50 - 2oz\n",
      "Neutrogena Sheer Zinc Vitamin E Sunscreen Stick - SPF 50 - 1.5 oz\n",
      "Neutrogena Ultimate Sport Sunscreen Face Lotion - SPF 70 - 2.5 fl oz\n",
      "Neutrogena Ultra Sheer Dry-Touch Sunscreen Lotion\n",
      "Neutrogena Ultra Sheer Face Mist - SPF 55 - 3.4 fl oz\n",
      "Neutrogena Ultra Sheer Lightweight Sunscreen Spray - SPF 100+ - 5oz\n",
      "Neutrogena Ultra Sheer Lightweight Sunscreen Spray - SPF 30 - 5oz\n",
      "Neutrogena Ultra Sheer Non-Greasy Sunscreen Stick - SPF 70 - 1.5oz\n",
      "Neutrogena Ultra Sheer Sunscreen Lotion - SPF 55 - 3 fl oz\n",
      "Neutrogena Ultra Sheer Sunscreen Lotion - SPF 70 - 3 fl oz\n",
      "Neutrogena Ultra Sheer Sunscreen Spray - SPF 30 - 5 fl oz\n",
      "Neutrogena Ultra Sheer Sunscreen Spray - SPF 70 - 5oz\n",
      "Neutrogena Wet Skin Kids Sunscreen Stick - SPF 70 - 0.47oz\n",
      "No7 Lift and Luminate Triple Action Day Cream Sunscreen SPF 30 - 0.84oz\n",
      "No7 Protect and Perfect Intense Advanced Day Cream Sunscreen SPF 30 - 0.84oz\n",
      "Olay Regenerist Micro-Sculpting Cream Moisturizer with Sunscreen Broad Spectrum SPF 30 - 1.7 fl oz\n",
      "Olay Regenerist Mineral Sunscreen Hydrating Moisturizer - SPF 15 - 1.7 fl oz\n",
      "Olay Regenerist Mineral Sunscreen Hydrating Moisturizer - SPF 30 - 1.7 fl oz\n",
      "Olay Regenerist Whip Active Moisturizer with Sunscreen - SPF 40 - 1.7 fl oz\n",
      "Olay Total Effects Whip Active Moisturizer with Sunscreen - SPF 40 - 1.7 fl oz\n",
      "Pacifica Bronzing Body Butter Coconut - SPF 50 - 5 fl oz\n",
      "Pacifica Bronzing Spray Mineral Sunscreen - SPF 30 - 6 fl oz\n",
      "Pacifica Sea & C Mineral Combo Body Milk - SPF 30 - 5 fl oz\n",
      "Pacifica Sea & C Sheer Sunscreen - SPF 30 - 6 fl oz\n",
      "Pipette Mineral Sunscreen Broad Spectrum SPF 50 - 4 fl oz\n",
      "Project Sunscreen Aerial Beach Sunscreen - SPF 50 - 3oz\n",
      "Project Sunscreen Tropical Palms Sunscreen - SPF 50 - 3oz\n",
      "Project Sunscreen Twin Pack For All - SPF 50 - 6oz\n",
      "Raw Elements Baby + Kids Mineral Sunscreen Tin - SPF 30+ - 3oz\n",
      "Raw Elements Daily Lifestyle Aluminum Mineral Sunscreen Tube - SPF 30+ - 1.8 fl oz\n",
      "Raw Elements Face and Body Mineral Sunscreen Tin - SPF 30 - 3oz\n",
      "Raw Elements Face and Body Mineral Sunscreen Tube - SPF 30 - 3 fl oz\n",
      "Raw Elements Mineral Sunscreen Face Stick - SPF 30 - 0.6oz\n",
      "Raw Elements Tinted Daily Face Mineral Sunscreen Aluminum Tube - SPF 30 - 1.8 fl oz\n",
      "Raw Elements Tinted Mineral Sunscreen Face Stick - SPF 30 - 0.6oz\n",
      "SLMD Skincare UV Bounce SPF 30 – 0.21oz\n",
      "SheaMoisture Vitamin E & Jojoba Oil Mineral Sunscreen - SPF 35 - 6 fl oz\n",
      "Sport Spray SPF 30 - 5.5oz - up & up™\n",
      "Sport Sunscreen Spray - SPF 30 - 2.2oz - up & up™\n",
      "Sport Sunscreen Spray - SPF 50 - 2pk/11oz - up & up™\n",
      "Sport Sunscreen Spray Twin Pack - SPF 30 - 14.6oz - up & up™\n",
      "Sport Sunscreen Spray Twin Pack - SPF 50 - 7.3oz each - up & up™\n",
      "Sukin Suncare Tinted Sunscreen - SPF 30 - 2.03 fl oz\n",
      "Sukin Suncare Untinted Sunscreen - SPF 30 - 2.03 fl oz\n",
      "Sun Bum Face Lotion - 3 fl oz\n",
      "Sun Bum Hand Cream - SPF 15 - 2 fl oz\n",
      "Sun Bum Mineral Face Stick Sunscreen - SPF 50 - 0.45oz\n",
      "Sun Bum Mineral Spray Sunscreen - 6 oz\n",
      "Sun Bum Mineral Sunscreen Lotion - 3 fl oz\n",
      "Sun Bum Original Sunscreen Lotion\n",
      "Sun Bum Original Sunscreen Spray - 6 oz\n",
      "Sun Bum Scalp and Hair Mist - SPF 30 - 2 fl oz\n",
      "Sun Bum Summer of Love Sunscreen Lotion - 6 fl oz\n",
      "Sun Bum Summer of Love Sunscreen Spray - 6oz\n",
      "Sun Bum Sunscreen Face Stick - SPF 30 - 0.45oz\n",
      "Thinkbaby Mineral Baby Sunscreen 3oz 2pk SPF 50\n",
      "Thinkbaby Mineral Baby Sunscreen 3oz SPF 50\n",
      "Thinkbaby Mineral Baby Sunscreen Stick, SPF 30 - 0.64oz\n",
      "Thinksport Kids Mineral Sunscreen Lotion - SPF 50 - 6oz\n",
      "Thinksport Kids Mineral Sunscreen Stick - SPF 30 - 0.64oz\n",
      "Thinksport Mineral Kids Sunscreen Lotion - SPF 50 - 3oz\n",
      "Thinksport Mineral Sunscreen Combo Pack Lotion and Stick - SPF 50 - 3 fl oz/SPF 30 - 0.64oz\n",
      "Thinksport Mineral Sunscreen EveryDay Face - SPF 30 - 2oz\n",
      "Thinksport Mineral Sunscreen Lotion - SPF 50 - 3oz\n",
      "Thinksport Mineral Sunscreen Lotion - SPF 50 - 6oz\n",
      "Thinksport Mineral Sunscreen Stick - SPF 30 - 0.64oz\n",
      "Two Peas Organics Mineral Sunscreens - SPF 30 - 3 fl oz\n",
      "Uncle Bud's Hemp Sunscreen Lotion - SPF 50 - 6oz\n",
      "Unsun Cosmetics Sunscreens - SPF 15 - 3 fl oz\n",
      "Vichy Aqualia Thermal UV Defense Daily Face Moisturizer with Sunscreen - SPF 30 - 1.69 fl oz\n",
      "Vichy LiftActiv Peptide-C Anti-Aging Face Sunscreen Moisturizer with Vitamin C - SPF 30 - 1.69 fl oz\n",
      "bliss Block Star Invisible Daily Sunscreen - 1.4 fl oz\n",
      "cocokind Daily Sunscreen - SPF 32 - 1.7oz\n"
     ]
    }
   ],
   "source": [
    "print('\\n'.join(sorted(find_products('propylene glycol', includes=False))[:]))"
   ]
  },
  {
   "cell_type": "code",
   "execution_count": 242,
   "id": "99f35dc9",
   "metadata": {},
   "outputs": [
    {
     "data": {
      "text/plain": [
       "{'Active ingredients': [Ingredient(name='avobenzone', rank=None, percent=None, alt_names=None),\n",
       "  Ingredient(name='homosalate', rank=None, percent=None, alt_names=None),\n",
       "  Ingredient(name='octisalate', rank=None, percent=None, alt_names=None),\n",
       "  Ingredient(name='octocrylene', rank=None, percent=None, alt_names=None),\n",
       "  Ingredient(name='oxybenzone', rank=None, percent=None, alt_names=None)],\n",
       " 'Inactive ingredients': [Ingredient(name='water', rank=None, percent=None, alt_names=None),\n",
       "  Ingredient(name='dimethicone', rank=None, percent=None, alt_names=None),\n",
       "  Ingredient(name='alcohol denat', rank=None, percent=None, alt_names=None),\n",
       "  Ingredient(name='styrene/acrylates copolymer', rank=None, percent=None, alt_names=None),\n",
       "  Ingredient(name='acrylates/dimethicone copolymer', rank=None, percent=None, alt_names=None),\n",
       "  Ingredient(name='phenoxyethanol', rank=None, percent=None, alt_names=None),\n",
       "  Ingredient(name='propylene glycol', rank=None, percent=None, alt_names=None),\n",
       "  Ingredient(name='caprylyl glycol', rank=None, percent=None, alt_names=None),\n",
       "  Ingredient(name='sodium polyacrylate', rank=None, percent=None, alt_names=None),\n",
       "  Ingredient(name='silica', rank=None, percent=None, alt_names=None),\n",
       "  Ingredient(name='peg-8 laurate', rank=None, percent=None, alt_names=None),\n",
       "  Ingredient(name='acrylates/c10-30 alkyl acrylate crosspolymer', rank=None, percent=None, alt_names=None),\n",
       "  Ingredient(name='disodium edta', rank=None, percent=None, alt_names=None),\n",
       "  Ingredient(name='tocopherol', rank=None, percent=None, alt_names=None),\n",
       "  Ingredient(name='menthyl lactate', rank=None, percent=None, alt_names=None),\n",
       "  Ingredient(name='diethylhexyl syringylidenemalonate', rank=None, percent=None, alt_names=None),\n",
       "  Ingredient(name='cassia alata leaf extract', rank=None, percent=None, alt_names=None),\n",
       "  Ingredient(name='maltodextrin', rank=None, percent=None, alt_names=None)]}"
      ]
     },
     "execution_count": 242,
     "metadata": {},
     "output_type": "execute_result"
    }
   ],
   "source": [
    "product_details['La Roche-Posay Anthelios Cooling Water-Lotion Face and Body Sunscreen SPF 60 - 5.0 fl oz']"
   ]
  },
  {
   "cell_type": "code",
   "execution_count": 243,
   "id": "b77e75f2",
   "metadata": {},
   "outputs": [
    {
     "data": {
      "text/plain": [
       "{'Active ingredients': [Ingredient(name='zinc oxide', rank=0, percent=24.08, alt_names=None)],\n",
       " 'Inactive ingredients': [Ingredient(name='water', rank=None, percent=None, alt_names=None),\n",
       "  Ingredient(name='c12-15 alkyl benzoate', rank=None, percent=None, alt_names=None),\n",
       "  Ingredient(name='isopropyl palmitate', rank=None, percent=None, alt_names=None),\n",
       "  Ingredient(name='butyloctyl salicylate', rank=None, percent=None, alt_names=None),\n",
       "  Ingredient(name='ethylhexyl isononanoate', rank=None, percent=None, alt_names=None),\n",
       "  Ingredient(name='cetyl peg/ppg-10/1 dimethicone', rank=None, percent=None, alt_names=None),\n",
       "  Ingredient(name='propylene glycol', rank=None, percent=None, alt_names=None),\n",
       "  Ingredient(name='cyclopentasiloxane', rank=None, percent=None, alt_names=None),\n",
       "  Ingredient(name='bis-octyldodecyl dimer dilinoleate/propanediol copolymer', rank=None, percent=None, alt_names=None),\n",
       "  Ingredient(name='dimethicone', rank=None, percent=None, alt_names=None),\n",
       "  Ingredient(name='ethylhexyl methoxycrylene', rank=None, percent=None, alt_names=None),\n",
       "  Ingredient(name='polyester-27', rank=None, percent=None, alt_names=None),\n",
       "  Ingredient(name='tea leaf extract', rank=None, percent=None, alt_names='camellia sinensis'),\n",
       "  Ingredient(name='giant kelp extract', rank=None, percent=None, alt_names='macrocystis pyrifera'),\n",
       "  Ingredient(name='sacred lotus extract', rank=None, percent=None, alt_names='nelumbo nucifera'),\n",
       "  Ingredient(name='triethoxycaprylysilane', rank=None, percent=None, alt_names=None),\n",
       "  Ingredient(name='beeswax', rank=None, percent=None, alt_names=None),\n",
       "  Ingredient(name='hydroxyacetophenone', rank=None, percent=None, alt_names=None),\n",
       "  Ingredient(name='peg-12 dimethicone crosspolymer', rank=None, percent=None, alt_names=None),\n",
       "  Ingredient(name='tocopherol', rank=None, percent=None, alt_names=None),\n",
       "  Ingredient(name='1,2-hexanediol', rank=None, percent=None, alt_names=None),\n",
       "  Ingredient(name='p0023 caprylyl glycol', rank=None, percent=None, alt_names=None),\n",
       "  Ingredient(name='sodium chloride', rank=None, percent=None, alt_names=None)]}"
      ]
     },
     "execution_count": 243,
     "metadata": {},
     "output_type": "execute_result"
    }
   ],
   "source": [
    "product_details['Coppertone Pure & Simple Sunscreen Lotion - SPF 50 - 6 fl oz']"
   ]
  },
  {
   "cell_type": "code",
   "execution_count": null,
   "id": "13922784",
   "metadata": {},
   "outputs": [],
   "source": []
  }
 ],
 "metadata": {
  "kernelspec": {
   "display_name": "Python 3",
   "language": "python",
   "name": "python3"
  },
  "language_info": {
   "codemirror_mode": {
    "name": "ipython",
    "version": 3
   },
   "file_extension": ".py",
   "mimetype": "text/x-python",
   "name": "python",
   "nbconvert_exporter": "python",
   "pygments_lexer": "ipython3",
   "version": "3.9.5"
  }
 },
 "nbformat": 4,
 "nbformat_minor": 5
}
